{
 "cells": [
  {
   "cell_type": "markdown",
   "metadata": {},
   "source": [
    "# 🚀 Simulation 1: Quick Start\n",
    "\n",
    "Hızlı başlangıç için minimal pipeline örneği.\n",
    "- Küçük veri seti\n",
    "- Hızlı eğitim\n",
    "- Temel raporlama"
   ]
  },
  {
   "cell_type": "code",
   "execution_count": null,
   "metadata": {},
   "outputs": [],
   "source": [
    "# Import\n",
    "import pandas as pd\n",
    "import numpy as np\n",
    "import warnings\n",
    "warnings.filterwarnings('ignore')\n",
    "\n",
    "try:\n",
    "    from risk_pipeline.pipeline16 import RiskModelPipeline, Config\n",
    "except:\n",
    "    import sys\n",
    "    sys.path.append('..')\n",
    "    from src.risk_pipeline.pipeline16 import RiskModelPipeline, Config\n",
    "\n",
    "print(\"✅ Imports ready\")"
   ]
  },
  {
   "cell_type": "code",
   "execution_count": null,
   "metadata": {},
   "outputs": [],
   "source": [
    "# Hızlı veri oluştur (1000 kayıt)\n",
    "np.random.seed(42)\n",
    "\n",
    "df = pd.DataFrame({\n",
    "    'app_id': range(1000),\n",
    "    'app_dt': pd.date_range('2023-01-01', periods=1000, freq='D'),\n",
    "    'target': np.random.binomial(1, 0.2, 1000),\n",
    "    'age': np.random.randint(18, 70, 1000),\n",
    "    'income': np.random.lognormal(10, 0.5, 1000),\n",
    "    'score': np.random.randint(300, 850, 1000),\n",
    "    'region': np.random.choice(['A', 'B', 'C'], 1000)\n",
    "})\n",
    "\n",
    "print(f\"Data shape: {df.shape}\")\n",
    "print(f\"Default rate: {df['target'].mean():.2%}\")"
   ]
  },
  {
   "cell_type": "code",
   "execution_count": null,
   "metadata": {},
   "outputs": [],
   "source": "# Minimal config ile çalıştır\ncfg = Config(\n    id_col='app_id',\n    time_col='app_dt',\n    target_col='target',\n    \n    # Hızlı ayarlar\n    cv_folds=3,\n    hpo_timeout_sec=30,  # DÜZELTİLDİ: hpo_timeout_sec\n    hpo_trials=5,  # DÜZELTİLDİ: hpo_trials\n    \n    output_folder='outputs_quick',\n    output_excel_path='quick_report.xlsx'\n)\n\n# Pipeline çalıştır\npipeline = RiskModelPipeline(cfg)\npipeline.run(df)\n\nprint(f\"\\n✅ Complete!\")\nprint(f\"Best Model: {pipeline.best_model_name_}\")\nprint(f\"Features: {len(pipeline.final_vars_)}\")\nprint(f\"Report: outputs_quick/quick_report.xlsx\")"
  }
 ],
 "metadata": {
  "kernelspec": {
   "display_name": "Python 3",
   "language": "python",
   "name": "python3"
  }
 },
 "nbformat": 4,
 "nbformat_minor": 4
}