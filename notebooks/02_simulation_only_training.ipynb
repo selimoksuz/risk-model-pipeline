{
 "cells": [
  {
   "cell_type": "markdown",
   "metadata": {},
   "source": [
    "# 🎯 Simulation 2: Sadece Model Eğitimi\n",
    "\n",
    "Kalibrasyon ve skorlama olmadan sadece model eğitimi."
   ]
  },
  {
   "cell_type": "code",
   "execution_count": null,
   "metadata": {},
   "outputs": [],
   "source": [
    "import pandas as pd\n",
    "import numpy as np\n",
    "import warnings\n",
    "warnings.filterwarnings('ignore')\n",
    "\n",
    "try:\n",
    "    from risk_pipeline.pipeline16 import RiskModelPipeline, Config\n",
    "except:\n",
    "    import sys\n",
    "    sys.path.append('..')\n",
    "    from src.risk_pipeline.pipeline16 import RiskModelPipeline, Config"
   ]
  },
  {
   "cell_type": "code",
   "execution_count": null,
   "metadata": {},
   "outputs": [],
   "source": [
    "# Eğitim verisi oluştur\n",
    "np.random.seed(123)\n",
    "\n",
    "n = 5000\n",
    "train_df = pd.DataFrame({\n",
    "    'app_id': [f'ID_{i:05d}' for i in range(n)],\n",
    "    'app_dt': pd.date_range('2023-01-01', periods=n, freq='D'),\n",
    "    'target': np.random.binomial(1, 0.15, n),\n",
    "    \n",
    "    # Numeric features\n",
    "    'age': np.random.randint(18, 70, n),\n",
    "    'income': np.random.lognormal(10, 0.5, n),\n",
    "    'credit_score': np.random.normal(650, 100, n).clip(300, 850),\n",
    "    'debt_ratio': np.random.uniform(0, 1, n),\n",
    "    'loan_amount': np.random.exponential(50000, n),\n",
    "    \n",
    "    # Categorical features\n",
    "    'education': np.random.choice(['HS', 'BSc', 'MSc', 'PhD'], n),\n",
    "    'employment': np.random.choice(['Employed', 'Self', 'Retired'], n),\n",
    "    'property': np.random.choice(['Own', 'Rent', 'Other'], n)\n",
    "})\n",
    "\n",
    "print(f\"Training data: {train_df.shape}\")\n",
    "print(f\"Target rate: {train_df['target'].mean():.2%}\")"
   ]
  },
  {
   "cell_type": "code",
   "execution_count": null,
   "metadata": {},
   "outputs": [],
   "source": [
    "# Sadece eğitim config'i\n",
    "cfg = Config(\n",
    "    id_col='app_id',\n",
    "    time_col='app_dt',\n",
    "    target_col='target',\n",
    "    \n",
    "    # Kalibrasyon YOK\n",
    "    calibration_df=None,\n",
    "    calibration_data_path=None,\n",
    "    \n",
    "    # Split ayarları\n",
    "    use_test_split=True,\n",
    "    test_size_row_frac=0.2,\n",
    "    oot_window_months=2,\n",
    "    \n",
    "    # Model ayarları\n",
    "    cv_folds=5,\n",
    "    hpo_timeout=60,\n",
    "    hpo_n_trials=10,\n",
    "    \n",
    "    # Output\n",
    "    output_folder='outputs_training_only',\n",
    "    output_excel_path='training_only_report.xlsx',\n",
    "    write_artifacts=True  # Model dosyalarını kaydet\n",
    ")\n",
    "\n",
    "print(\"Configuration ready\")"
   ]
  },
  {
   "cell_type": "code",
   "execution_count": null,
   "metadata": {},
   "outputs": [],
   "source": [
    "# Pipeline çalıştır\n",
    "pipeline = RiskModelPipeline(cfg)\n",
    "pipeline.run(train_df)\n",
    "\n",
    "print(\"\\n\" + \"=\"*60)\n",
    "print(\"Training Complete!\")\n",
    "print(\"=\"*60)\n",
    "print(f\"Best Model: {pipeline.best_model_name_}\")\n",
    "print(f\"Final Features: {len(pipeline.final_vars_)}\")\n",
    "print(f\"Calibrator: {'Yes' if pipeline.calibrator_ else 'No'}\")"
   ]
  },
  {
   "cell_type": "code",
   "execution_count": null,
   "metadata": {},
   "outputs": [],
   "source": [
    "# Model performansı\n",
    "if pipeline.models_summary_ is not None:\n",
    "    print(\"\\nModel Performance:\")\n",
    "    print(pipeline.models_summary_[['model', 'auc_oot', 'gini_oot', 'ks_oot']])"
   ]
  },
  {
   "cell_type": "code",
   "execution_count": null,
   "metadata": {},
   "outputs": [],
   "source": [
    "# Model dosyalarını kontrol et\n",
    "import os\n",
    "from pathlib import Path\n",
    "\n",
    "output_path = Path(cfg.output_folder)\n",
    "print(\"\\nSaved Files:\")\n",
    "for file in output_path.glob(f\"*{pipeline.cfg.run_id}*\"):\n",
    "    size_kb = os.path.getsize(file) / 1024\n",
    "    print(f\"  • {file.name} ({size_kb:.1f} KB)\")"
   ]
  }
 ],
 "metadata": {
  "kernelspec": {
   "display_name": "Python 3",
   "language": "python",
   "name": "python3"
  }
 },
 "nbformat": 4,
 "nbformat_minor": 4
}