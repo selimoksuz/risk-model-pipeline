{
 "cells": [
  {
   "cell_type": "markdown",
   "metadata": {},
   "source": [
    "# 📊 Simulation 3: Model + Kalibrasyon\n",
    "\n",
    "DataFrame kalibrasyon ile model eğitimi."
   ]
  },
  {
   "cell_type": "code",
   "execution_count": null,
   "metadata": {},
   "outputs": [],
   "source": [
    "import pandas as pd\n",
    "import numpy as np\n",
    "import warnings\n",
    "warnings.filterwarnings('ignore')\n",
    "\n",
    "try:\n",
    "    from risk_pipeline.pipeline16 import RiskModelPipeline, Config\n",
    "except:\n",
    "    import sys\n",
    "    sys.path.append('..')\n",
    "    from src.risk_pipeline.pipeline16 import RiskModelPipeline, Config\n",
    "\n",
    "print(\"✅ Ready\")"
   ]
  },
  {
   "cell_type": "code",
   "execution_count": null,
   "metadata": {},
   "outputs": [],
   "source": [
    "# Veri setlerini oluştur\n",
    "np.random.seed(456)\n",
    "\n",
    "def create_data(n, prefix, target_rate=0.15):\n",
    "    return pd.DataFrame({\n",
    "        'app_id': [f'{prefix}_{i:05d}' for i in range(n)],\n",
    "        'app_dt': pd.date_range('2023-01-01', periods=n, freq='D'),\n",
    "        'target': np.random.binomial(1, target_rate, n),\n",
    "        'age': np.random.randint(18, 70, n),\n",
    "        'income': np.random.lognormal(10, 0.5, n),\n",
    "        'score': np.random.normal(650, 100, n).clip(300, 850),\n",
    "        'debt': np.random.exponential(20000, n),\n",
    "        'employment_years': np.random.exponential(5, n).clip(0, 30),\n",
    "        'education': np.random.choice(['HS', 'BSc', 'MSc'], n),\n",
    "        'marital': np.random.choice(['Single', 'Married', 'Other'], n),\n",
    "        'region': np.random.choice(['North', 'South', 'East', 'West'], n)\n",
    "    })\n",
    "\n",
    "# Eğitim verisi\n",
    "train_df = create_data(3000, 'TRAIN', 0.15)\n",
    "print(f\"Training: {train_df.shape}, Target rate: {train_df['target'].mean():.2%}\")\n",
    "\n",
    "# Kalibrasyon verisi (farklı dağılım)\n",
    "cal_df = create_data(1000, 'CAL', 0.18)  # Daha yüksek default rate\n",
    "print(f\"Calibration: {cal_df.shape}, Target rate: {cal_df['target'].mean():.2%}\")"
   ]
  },
  {
   "cell_type": "code",
   "execution_count": null,
   "metadata": {},
   "outputs": [],
   "source": [
    "# Kalibrasyon ile pipeline\n",
    "cfg = Config(\n",
    "    id_col='app_id',\n",
    "    time_col='app_dt',\n",
    "    target_col='target',\n",
    "    \n",
    "    # DataFrame kalibrasyon\n",
    "    calibration_df=cal_df,  # DataFrame direkt\n",
    "    calibration_method='isotonic',  # veya 'sigmoid'\n",
    "    \n",
    "    # Model settings\n",
    "    cv_folds=3,\n",
    "    hpo_timeout=60,\n",
    "    hpo_n_trials=10,\n",
    "    \n",
    "    # Output\n",
    "    output_folder='outputs_calibrated',\n",
    "    output_excel_path='calibrated_model_report.xlsx'\n",
    ")\n",
    "\n",
    "print(\"Config with calibration ready\")"
   ]
  },
  {
   "cell_type": "code",
   "execution_count": null,
   "metadata": {},
   "outputs": [],
   "source": [
    "# Pipeline çalıştır\n",
    "pipeline = RiskModelPipeline(cfg)\n",
    "pipeline.run(train_df)\n",
    "\n",
    "print(\"\\n\" + \"=\"*60)\n",
    "print(\"✅ Pipeline Complete\")\n",
    "print(\"=\"*60)"
   ]
  },
  {
   "cell_type": "code",
   "execution_count": null,
   "metadata": {},
   "outputs": [],
   "source": [
    "# Kalibrasyon kontrolü\n",
    "print(\"Calibration Check:\")\n",
    "print(f\"Calibrator type: {type(pipeline.calibrator_).__name__ if pipeline.calibrator_ else 'None'}\")\n",
    "\n",
    "# Kalibrasyon öncesi/sonrası karşılaştırma için test\n",
    "if pipeline.calibrator_ is not None:\n",
    "    # Test verisi oluştur\n",
    "    test_df = create_data(500, 'TEST', 0.20)\n",
    "    \n",
    "    # WOE dönüşümü uygula (basitleştirilmiş)\n",
    "    # Gerçek uygulamada pipeline'ın WOE mapping'ini kullanın\n",
    "    \n",
    "    print(\"\\n✅ Calibration applied successfully!\")\n",
    "    print(\"Calibrator will adjust model probabilities for better calibration.\")"
   ]
  },
  {
   "cell_type": "code",
   "execution_count": null,
   "metadata": {},
   "outputs": [],
   "source": [
    "# Model sonuçları\n",
    "print(\"\\nModel Results:\")\n",
    "print(f\"Best Model: {pipeline.best_model_name_}\")\n",
    "print(f\"Final Features: {len(pipeline.final_vars_)}\")\n",
    "\n",
    "if pipeline.models_summary_ is not None:\n",
    "    best = pipeline.models_summary_[pipeline.models_summary_['model'] == pipeline.best_model_name_].iloc[0]\n",
    "    print(f\"\\nPerformance:\")\n",
    "    print(f\"  AUC (OOT): {best.get('auc_oot', 'N/A')}\")\n",
    "    print(f\"  Gini (OOT): {best.get('gini_oot', 'N/A')}\")"
   ]
  }
 ],
 "metadata": {
  "kernelspec": {
   "display_name": "Python 3",
   "language": "python",
   "name": "python3"
  }
 },
 "nbformat": 4,
 "nbformat_minor": 4
}