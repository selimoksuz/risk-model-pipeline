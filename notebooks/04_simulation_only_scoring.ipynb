{
 "cells": [
  {
   "cell_type": "markdown",
   "metadata": {},
   "source": [
    "# 🎯 Simulation 4: Sadece Skorlama\n",
    "\n",
    "Önceden eğitilmiş model ile skorlama yapma."
   ]
  },
  {
   "cell_type": "code",
   "execution_count": null,
   "metadata": {},
   "outputs": [],
   "source": [
    "import pandas as pd\n",
    "import numpy as np\n",
    "import joblib\n",
    "import json\n",
    "import warnings\n",
    "warnings.filterwarnings('ignore')\n",
    "\n",
    "try:\n",
    "    from risk_pipeline.utils.scoring import score_data, load_model_artifacts\n",
    "except:\n",
    "    import sys\n",
    "    sys.path.append('..')\n",
    "    from src.risk_pipeline.utils.scoring import score_data, load_model_artifacts\n",
    "\n",
    "print(\"✅ Ready for scoring\")"
   ]
  },
  {
   "cell_type": "code",
   "execution_count": null,
   "metadata": {},
   "outputs": [],
   "source": [
    "# Önce bir model eğitelim (demo için)\n",
    "from sklearn.ensemble import RandomForestClassifier\n",
    "from sklearn.model_selection import train_test_split\n",
    "\n",
    "# Demo veri\n",
    "np.random.seed(789)\n",
    "X = np.random.randn(1000, 5)\n",
    "y = (X[:, 0] + X[:, 1] * 0.5 + np.random.randn(1000) * 0.5 > 0).astype(int)\n",
    "\n",
    "X_train, X_test, y_train, y_test = train_test_split(X, y, test_size=0.2, random_state=42)\n",
    "\n",
    "# Model eğit\n",
    "model = RandomForestClassifier(n_estimators=10, random_state=42)\n",
    "model.fit(X_train, y_train)\n",
    "\n",
    "# Model kaydet\n",
    "import os\n",
    "os.makedirs('outputs_scoring', exist_ok=True)\n",
    "joblib.dump(model, 'outputs_scoring/demo_model.pkl')\n",
    "\n",
    "# Feature listesi\n",
    "features = [f'feature_{i}' for i in range(5)]\n",
    "with open('outputs_scoring/features.json', 'w') as f:\n",
    "    json.dump(features, f)\n",
    "\n",
    "print(f\"Demo model trained and saved\")\n",
    "print(f\"Accuracy: {model.score(X_test, y_test):.3f}\")"
   ]
  },
  {
   "cell_type": "code",
   "execution_count": null,
   "metadata": {},
   "outputs": [],
   "source": [
    "# Skorlama verisi oluştur (bazıları target'sız)\n",
    "n_score = 2000\n",
    "\n",
    "scoring_df = pd.DataFrame({\n",
    "    'app_id': [f'SCORE_{i:05d}' for i in range(n_score)],\n",
    "    'app_dt': pd.date_range('2024-01-01', periods=n_score, freq='D'),\n",
    "    'target': [np.nan] * 1200 + list(np.random.binomial(1, 0.25, 800)),  # %60 target'sız\n",
    "    'feature_0': np.random.randn(n_score),\n",
    "    'feature_1': np.random.randn(n_score),\n",
    "    'feature_2': np.random.randn(n_score),\n",
    "    'feature_3': np.random.randn(n_score),\n",
    "    'feature_4': np.random.randn(n_score)\n",
    "})\n",
    "\n",
    "print(f\"Scoring data: {scoring_df.shape}\")\n",
    "print(f\"With target: {(~scoring_df['target'].isna()).sum()}\")\n",
    "print(f\"Without target: {scoring_df['target'].isna().sum()}\")"
   ]
  },
  {
   "cell_type": "code",
   "execution_count": null,
   "metadata": {},
   "outputs": [],
   "source": [
    "# Model ve features yükle\n",
    "model = joblib.load('outputs_scoring/demo_model.pkl')\n",
    "with open('outputs_scoring/features.json', 'r') as f:\n",
    "    features = json.load(f)\n",
    "\n",
    "print(f\"Model loaded: {type(model).__name__}\")\n",
    "print(f\"Features: {features}\")"
   ]
  },
  {
   "cell_type": "code",
   "execution_count": null,
   "metadata": {},
   "outputs": [],
   "source": [
    "# Basit skorlama (WOE mapping olmadan)\n",
    "X_score = scoring_df[features].values\n",
    "scores = model.predict_proba(X_score)[:, 1]\n",
    "\n",
    "# Sonuçları DataFrame'e ekle\n",
    "scoring_df['score'] = scores\n",
    "scoring_df['risk_band'] = pd.qcut(scores, 10, labels=False) + 1\n",
    "\n",
    "print(\"\\nScoring Complete!\")\n",
    "print(f\"Score range: [{scores.min():.3f}, {scores.max():.3f}]\")\n",
    "print(f\"Mean score: {scores.mean():.3f}\")"
   ]
  },
  {
   "cell_type": "code",
   "execution_count": null,
   "metadata": {},
   "outputs": [],
   "source": [
    "# Target'lı kayıtlar için performans\n",
    "from sklearn.metrics import roc_auc_score, classification_report\n",
    "\n",
    "has_target = ~scoring_df['target'].isna()\n",
    "if has_target.sum() > 0:\n",
    "    y_true = scoring_df.loc[has_target, 'target']\n",
    "    y_score = scoring_df.loc[has_target, 'score']\n",
    "    \n",
    "    auc = roc_auc_score(y_true, y_score)\n",
    "    gini = 2 * auc - 1\n",
    "    \n",
    "    print(f\"\\nPerformance (on {has_target.sum()} records with target):\")\n",
    "    print(f\"AUC: {auc:.4f}\")\n",
    "    print(f\"Gini: {gini:.4f}\")"
   ]
  },
  {
   "cell_type": "code",
   "execution_count": null,
   "metadata": {},
   "outputs": [],
   "source": [
    "# Risk band analizi\n",
    "print(\"\\nRisk Band Analysis:\")\n",
    "print(\"=\"*60)\n",
    "\n",
    "# Target'lı kayıtlar için\n",
    "with_target_df = scoring_df[has_target].copy()\n",
    "band_analysis = with_target_df.groupby('risk_band').agg({\n",
    "    'target': ['count', 'sum', 'mean'],\n",
    "    'score': ['min', 'max', 'mean']\n",
    "})\n",
    "\n",
    "band_analysis.columns = ['Count', 'Defaults', 'Default_Rate', 'Min_Score', 'Max_Score', 'Avg_Score']\n",
    "print(band_analysis)\n",
    "\n",
    "# Monotonicity check\n",
    "default_rates = band_analysis['Default_Rate'].values\n",
    "is_monotonic = all(default_rates[i] <= default_rates[i+1] for i in range(len(default_rates)-1))\n",
    "print(f\"\\nMonotonic trend: {'✅ Yes' if is_monotonic else '❌ No'}\")"
   ]
  },
  {
   "cell_type": "code",
   "execution_count": null,
   "metadata": {},
   "outputs": [],
   "source": [
    "# Skorları kaydet\n",
    "output_file = 'outputs_scoring/scored_data.csv'\n",
    "scoring_df.to_csv(output_file, index=False)\n",
    "print(f\"\\n✅ Scored data saved to: {output_file}\")\n",
    "print(f\"Total records: {len(scoring_df):,}\")"
   ]
  }
 ],
 "metadata": {
  "kernelspec": {
   "display_name": "Python 3",
   "language": "python",
   "name": "python3"
  }
 },
 "nbformat": 4,
 "nbformat_minor": 4
}