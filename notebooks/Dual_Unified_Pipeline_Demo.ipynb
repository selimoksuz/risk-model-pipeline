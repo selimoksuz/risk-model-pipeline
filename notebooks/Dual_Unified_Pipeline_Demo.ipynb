{
 "cells": [
  {"cell_type": "markdown", "metadata": {}, "source": ["# Dual Unified Pipeline Demo\n","Runs WOE + RAW unified pipeline on synthetic data and prints a summary."]},
  {"cell_type": "code", "execution_count": null, "metadata": {}, "outputs": [], "source": [
    "import numpy as np\n",
    "import pandas as pd\n",
    "from datetime import datetime, timedelta\n",
    "from risk_pipeline.core.config import Config\n",
    "from risk_pipeline.unified_pipeline import UnifiedRiskPipeline\n",
    "\n",
    "def generate_synthetic(n=4000, seed=42):\n",
    "    rng = np.random.default_rng(seed)\n",
    "    dt0 = datetime(2023,1,1)\n",
    "    app_dt = [dt0 + timedelta(days=int(d)) for d in rng.integers(0,365,size=n)]\n",
    "    app_id = np.arange(1, n+1)\n",
    "    x1 = rng.normal(0,1,n)\n",
    "    x2 = rng.exponential(1.0, n)\n",
    "    x3 = rng.binomial(1, 0.3, n)\n",
    "    cat = rng.choice(['A','B','C','D', None], size=n, p=[0.3,0.3,0.2,0.15,0.05])\n",
    "    cat_map = {'A':0.2,'B':0.0,'C':-0.1,'D':0.3}\n",
    "    cat_term = pd.Series(cat).map(cat_map).fillna(0).values\n",
    "    logit = -1.0 + 0.8*x1 + 0.5*(x2>1.0).astype(int) + 0.6*x3 + cat_term\n",
    "    p = 1/(1+np.exp(-logit))\n",
    "    y = (rng.random(n) < p).astype(int)\n",
    "    return pd.DataFrame({'app_id':app_id,'app_dt':app_dt,'x1':x1,'x2':x2,'x3':x3,'cat':cat,'target':y})\n",
    "\n",
    "df = generate_synthetic()\n",
    "cfg = Config(target_col='target', id_col='app_id', time_col='app_dt', enable_scoring=False, enable_calibration=True, stage2_method='lower_mean', enable_woe=True, selection_order=['psi','vif','correlation','iv','boruta','stepwise'], use_optuna=False, model_type='LogisticRegression', use_test_split=True, oot_months=3, equal_default_splits=True, n_risk_bands=10, band_method='quantile', enable_dual_pipeline=True)\n",
    "pipe = UnifiedRiskPipeline(cfg)\n",
    "results = pipe.fit(df)\n",
    "results['selected_features'], results.get('best_model_name')\n"
  ]}
 ],
 "metadata": {"kernelspec": {"display_name": "Python 3", "language": "python", "name": "python3"}, "language_info": {"name": "python", "version": "3.x"}},
 "nbformat": 4, "nbformat_minor": 5
}

