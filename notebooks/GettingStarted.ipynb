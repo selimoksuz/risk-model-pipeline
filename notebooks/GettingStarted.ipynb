﻿{
 "cells": [
  {"cell_type":"markdown","metadata":{},"source":["# Getting Started (risk-model-pipeline)\n","Install, run pipeline, inspect report, and score external data."]},
  {"cell_type":"code","metadata":{},"execution_count":null,"outputs":[],"source":["# If needed, install editable package (uncomment)\n","# !pip install -e .\n","import os, subprocess, json, pandas as pd"]},
  {"cell_type":"code","metadata":{},"execution_count":null,"outputs":[],"source":["# Generate sample data\n","!python scripts/make_sample_csv.py"]},
  {"cell_type":"code","metadata":{},"execution_count":null,"outputs":[],"source":["# Run pipeline (Windows-friendly invocation)\n","!risk-pipeline run16 --input-csv data/input.csv --use-test-split --calibration-data data/calibration.csv --score-data data/score.csv --output-folder outputs --output-excel model_report.xlsx"]},
  {"cell_type":"code","metadata":{},"execution_count":null,"outputs":[],"source":["# Inspect sheets\n","from openpyxl import load_workbook\n","wb=load_workbook('outputs/model_report.xlsx', read_only=True)\n","wb.sheetnames"]},
  {"cell_type":"code","metadata":{},"execution_count":null,"outputs":[],"source":["# Find latest artifacts and score external dataset using report thresholds\n","import glob\n","mapping = sorted(glob.glob('outputs/woe_mapping_*.json'))[-1]\n","finalv = sorted(glob.glob('outputs/final_vars_*.json'))[-1]\n","model  = sorted(glob.glob('outputs/best_model_*.joblib'))[-1]\n","!risk-pipeline score --input-csv data/score.csv --woe-mapping {mapping} --final-vars-json {finalv} --model-path {model} --report-xlsx outputs/model_report.xlsx --output-csv outputs/scores.csv"]},
  {"cell_type":"code","metadata":{},"execution_count":null,"outputs":[],"source":["# Preview scores\n","pd.read_csv('outputs/scores.csv').head()"]}
 ],
 "metadata": {"kernelspec": {"display_name": "Python 3", "language": "python", "name": "python3"}, "language_info": {"name":"python"}},
 "nbformat": 4,
 "nbformat_minor": 5
}
