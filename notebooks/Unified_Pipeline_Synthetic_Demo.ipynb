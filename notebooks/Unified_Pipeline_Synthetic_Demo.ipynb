{
 "cells": [
  {
   "cell_type": "markdown",
   "metadata": {},
   "source": [
    "# Unified Risk Pipeline Synthetic Demo\n",
    "This notebook generates a synthetic dataset, runs the unified risk pipeline step-by-step, and then in one shot."
   ]
  },
  {
   "cell_type": "code",
   "execution_count": null,
   "metadata": {},
   "outputs": [],
   "source": [
    "import numpy as np\n",
    "import pandas as pd\n",
    "from datetime import datetime, timedelta\n",
    "\n",
    "np.random.seed(42)\n",
    "n = 5000\n",
    "dt0 = datetime(2023,1,1)\n",
    "app_dt = [dt0 + timedelta(days=int(d)) for d in np.random.randint(0, 365, size=n)]\n",
    "app_id = np.arange(1, n+1)\n",
    "x1 = np.random.normal(0, 1, n)\n",
    "x2 = np.random.exponential(1.0, n)\n",
    "x3 = np.random.binomial(1, 0.3, n)\n",
    "cat = np.random.choice(['A','B','C','D', None], size=n, p=[0.3,0.3,0.2,0.15,0.05])\n",
    "\n",
    "logit = -1.0 + 0.8*x1 + 0.5*(x2>1.0).astype(int) + 0.6*x3 + (pd.Series(cat).map({'A':0.2,'B':0.0,'C':-0.1,'D':0.3}).fillna(0).values)\n",
    "p = 1/(1+np.exp(-logit))\n",
    "y = (np.random.rand(n) < p).astype(int)\n",
    "\n",
    "df = pd.DataFrame({\n",
    "    'app_id': app_id,\n",
    "    'app_dt': app_dt,\n",
    "    'x1': x1,\n",
    "    'x2': x2,\n",
    "    'x3': x3,\n",
    "    'cat': cat,\n",
    "    'target': y\n",
    "})\n",
    "df.head()"
   ]
  },
  {
   "cell_type": "code",
   "execution_count": null,
   "metadata": {},
   "outputs": [],
   "source": [
    "from risk_pipeline.core.config import Config\n",
    "from risk_pipeline.unified_pipeline import UnifiedRiskPipeline\n",
    "\n",
    "cfg = Config(\n",
    "    target_col='target', id_col='app_id', time_col='app_dt',\n",
    "    enable_scoring=False, enable_calibration=True, stage2_method='lower_mean',\n",
    "    enable_woe=True, selection_order=['psi','vif','correlation','iv','boruta','stepwise'],\n",
    "    use_optuna=False, model_type='all',\n",
    "    use_test_split=True, oot_months=3, equal_default_splits=True,\n",
    "    n_risk_bands=10, band_method='quantile'\n",
    ")\n",
    "pipe = UnifiedRiskPipeline(cfg)\n",
    "results = pipe.fit(df)\n",
    "list(results.keys())"
   ]
  },
  {
   "cell_type": "code",
   "execution_count": null,
   "metadata": {},
   "outputs": [],
   "source": [
    "# Inspect selected features and best model\n",
    "results['selected_features'], results.get('best_model_name')\n"
   ]
  }
 ],
 "metadata": {
  "kernelspec": {
   "display_name": "Python 3",
   "language": "python",
   "name": "python3"
  },
  "language_info": {
   "name": "python",
   "version": "3.x"
  }
 },
 "nbformat": 4,
 "nbformat_minor": 5
}

