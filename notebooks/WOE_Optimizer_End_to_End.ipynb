{
 "cells": [
  {
   "cell_type": "markdown",
   "id": "8069c77e",
   "metadata": {},
   "source": [
    "# WOE Optimizer Pipeline - End-to-End Notebook\n",
    "\n",
    "Consolidates the latest WOE-first optimization flow with IV-driven binning, PSI stability checks (train vs test/OOT and intra-train monthly), correlation clustering controls, Boruta/stepwise filtering, and risk-band binomial validation."
   ]
  },
  {
   "cell_type": "markdown",
   "id": "d4320488",
   "metadata": {},
   "source": [
    "## 0. Environment Setup"
   ]
  },
  {
   "cell_type": "code",
   "execution_count": null,
   "id": "2dd1c872",
   "metadata": {},
   "outputs": [],
   "source": [
    "import sys\n",
    "from pathlib import Path\n",
    "\n",
    "REPO_ROOT = Path.cwd().resolve()\n",
    "if REPO_ROOT.name == \"notebooks\":\n",
    "    REPO_ROOT = REPO_ROOT.parent\n",
    "SRC_DIR = REPO_ROOT / \"src\"\n",
    "EXAMPLES_DIR = REPO_ROOT / \"examples\"\n",
    "\n",
    "if str(SRC_DIR) not in sys.path:\n",
    "    sys.path.insert(0, str(SRC_DIR))\n",
    "if str(EXAMPLES_DIR) not in sys.path:\n",
    "    sys.path.insert(0, str(EXAMPLES_DIR))\n",
    "\n",
    "import pandas as pd\n",
    "import numpy as np\n",
    "\n",
    "from risk_pipeline.unified_pipeline import UnifiedRiskPipeline\n",
    "from risk_pipeline.core.config import Config\n",
    "from examples.dual_unified_pipeline_demo import generate_synthetic"
   ]
  },
  {
   "cell_type": "markdown",
   "id": "d97be618",
   "metadata": {},
   "source": [
    "## 1. Parameter Controls"
   ]
  },
  {
   "cell_type": "code",
   "execution_count": null,
   "id": "8c588d51",
   "metadata": {},
   "outputs": [],
   "source": [
    "PIPELINE_CONFIG = {\n",
    "    \"target_column\": \"target\",\n",
    "    \"id_column\": \"app_id\",\n",
    "    \"time_column\": \"app_dt\",\n",
    "    \"equal_default_splits\": True,\n",
    "    \"test_size\": 0.2,\n",
    "    \"oot_months\": 3,\n",
    "    \"random_state\": 42,\n",
    "    \"selection_order\": [\"psi\", \"univariate\", \"iv\", \"correlation\", \"boruta\", \"stepwise\"],\n",
    "    \"psi_threshold\": 0.20,\n",
    "    \"monthly_psi_threshold\": 0.10,\n",
    "    \"oot_psi_threshold\": 0.20,\n",
    "    \"max_features_per_cluster\": 1,\n",
    "    \"min_univariate_gini\": 0.05,\n",
    "    \"iv_threshold\": 0.02,\n",
    "    \"stepwise_method\": \"forward\",\n",
    "    \"stepwise_max_features\": 25,\n",
    "    \"enable_noise_sentinel\": True,\n",
    "    \"use_noise_sentinel\": True,\n",
    "    \"enable_scoring\": True,\n",
    "    \"enable_calibration\": True,\n",
    "    \"woe_binning_method\": \"optimized\",\n",
    "    \"woe_max_bins\": 8,\n",
    "    \"woe_min_bin_size\": 0.05,\n",
    "}"
   ]
  },
  {
   "cell_type": "markdown",
   "id": "6e688ed6",
   "metadata": {},
   "source": [
    "## 2. Generate Synthetic Dataset"
   ]
  },
  {
   "cell_type": "code",
   "execution_count": null,
   "id": "f3b3cf8c",
   "metadata": {},
   "outputs": [],
   "source": [
    "RAW_SAMPLE = generate_synthetic(n=15000, seed=2025, months=24)\n",
    "RAW_SAMPLE[\"snapshot_month\"] = RAW_SAMPLE[\"app_dt\"].dt.to_period(\"M\").astype(str)\n",
    "RAW_SAMPLE.head()"
   ]
  },
  {
   "cell_type": "markdown",
   "id": "7fccd334",
   "metadata": {},
   "source": [
    "## 3. Run Unified WOE Optimizer Pipeline"
   ]
  },
  {
   "cell_type": "code",
   "execution_count": null,
   "id": "e27ad29b",
   "metadata": {},
   "outputs": [],
   "source": [
    "config = Config(**PIPELINE_CONFIG)\n",
    "pipeline = UnifiedRiskPipeline(config)\n",
    "\n",
    "stage2_cutoff = RAW_SAMPLE[\"app_dt\"].max() - pd.DateOffset(months=config.oot_months)\n",
    "stage2_frame = RAW_SAMPLE[RAW_SAMPLE[\"app_dt\"] >= stage2_cutoff].copy()\n",
    "\n",
    "results = pipeline.fit(\n",
    "    df=RAW_SAMPLE,\n",
    "    calibration_df=RAW_SAMPLE,\n",
    "    stage2_df=stage2_frame,\n",
    ")\n",
    "\n",
    "results.keys()"
   ]
  },
  {
   "cell_type": "markdown",
   "id": "ba5b40fe",
   "metadata": {},
   "source": [
    "## 4. Inspect Feature Selection Diagnostics"
   ]
  },
  {
   "cell_type": "code",
   "execution_count": null,
   "id": "73b51c2f",
   "metadata": {},
   "outputs": [],
   "source": [
    "selection_history = results.get(\"selection\", {}).get(\"selection_history\", [])\n",
    "summary_rows = []\n",
    "for step in selection_history:\n",
    "    summary_rows.append({\n",
    "        \"method\": step.get(\"method\"),\n",
    "        \"before\": step.get(\"before\"),\n",
    "        \"after\": step.get(\"after\"),\n",
    "        \"removed\": \", \".join(sorted(step.get(\"removed\", []))) if step.get(\"removed\") else \"\",\n",
    "    })\n",
    "\n",
    "pd.DataFrame(summary_rows)"
   ]
  },
  {
   "cell_type": "code",
   "execution_count": null,
   "id": "010179f8",
   "metadata": {},
   "outputs": [],
   "source": [
    "psi_details = {}\n",
    "for step in selection_history:\n",
    "    if step.get(\"method\") == \"psi\":\n",
    "        psi_details = step.get(\"details\", {})\n",
    "        break\n",
    "\n",
    "psi_rows = []\n",
    "for feature, detail in psi_details.items():\n",
    "    comparisons = detail.get(\"comparisons\", {})\n",
    "    monthly = comparisons.get(\"monthly\", {}).get(\"psi_by_month\", {})\n",
    "    psi_rows.append({\n",
    "        \"feature\": feature,\n",
    "        \"status\": detail.get(\"status\"),\n",
    "        \"drop_reasons\": \"; \".join(detail.get(\"drop_reasons\", [])),\n",
    "        \"psi_test\": comparisons.get(\"test\", {}).get(\"psi\"),\n",
    "        \"psi_oot\": comparisons.get(\"oot\", {}).get(\"psi\"),\n",
    "        \"psi_monthly_max\": max(monthly.values()) if monthly else None,\n",
    "    })\n",
    "\n",
    "pd.DataFrame(psi_rows).sort_values(\"status\", ascending=False)"
   ]
  },
  {
   "cell_type": "code",
   "execution_count": null,
   "id": "8788f8da",
   "metadata": {},
   "outputs": [],
   "source": [
    "univariate_details = {}\n",
    "for step in selection_history:\n",
    "    if step.get(\"method\") == \"univariate\":\n",
    "        univariate_details = step.get(\"details\", {})\n",
    "        break\n",
    "\n",
    "uni_rows = []\n",
    "for feature, detail in univariate_details.items():\n",
    "    uni_rows.append({\n",
    "        \"feature\": feature,\n",
    "        \"status\": detail.get(\"status\"),\n",
    "        \"gini_woe\": detail.get(\"gini_woe\"),\n",
    "        \"gini_raw\": detail.get(\"gini_raw\"),\n",
    "        \"drop_reason\": detail.get(\"drop_reason\", \"\"),\n",
    "    })\n",
    "\n",
    "pd.DataFrame(uni_rows).sort_values(\"gini_woe\", ascending=False)"
   ]
  },
  {
   "cell_type": "markdown",
   "id": "1725ff1f",
   "metadata": {},
   "source": [
    "## 5. Risk Band & Calibration Checks"
   ]
  },
  {
   "cell_type": "code",
   "execution_count": null,
   "id": "9985f56a",
   "metadata": {},
   "outputs": [],
   "source": [
    "risk_band_results = results.get(\"risk_bands\", {})\n",
    "if risk_band_results:\n",
    "    band_table = risk_band_results.get(\"band_table\")\n",
    "    binomial_tests = risk_band_results.get(\"binomial_tests\")\n",
    "    if band_table is not None:\n",
    "        display(pd.DataFrame(band_table))\n",
    "    if binomial_tests:\n",
    "        display(pd.DataFrame(binomial_tests).T)\n",
    "else:\n",
    "    print(\"Risk band optimizer output not available in results.\")"
   ]
  },
  {
   "cell_type": "markdown",
   "id": "5199c4d0",
   "metadata": {},
   "source": [
    "## 6. Next Steps\n",
    "\n",
    "- Review PSI and univariate elimination reasons for any business overrides.\n",
    "- Validate staged calibrations on alternative OOT windows to confirm binomial stability.\n",
    "- Export `pipeline.results_` artifacts (models, WOE buckets, scorebands) for production hardening."
   ]
  }
 ],
 "metadata": {},
 "nbformat": 4,
 "nbformat_minor": 5
}
