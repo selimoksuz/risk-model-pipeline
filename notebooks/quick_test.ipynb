{
 "cells": [
  {
   "cell_type": "markdown",
   "metadata": {},
   "source": [
    "# Quick Test Notebook - Always Latest Version\n",
    "\n",
    "This notebook is for quickly testing changes to the risk-model-pipeline package.\n",
    "It automatically updates to the latest GitHub version every time you run it."
   ]
  },
  {
   "cell_type": "code",
   "execution_count": null,
   "metadata": {},
   "outputs": [],
   "source": [
    "# Force update to latest version from GitHub\n",
    "import subprocess\n",
    "import sys\n",
    "\n",
    "print(\"🔄 Updating to latest version from GitHub...\")\n",
    "!pip uninstall -y risk-model-pipeline > /dev/null 2>&1\n",
    "!pip install --no-cache-dir git+https://github.com/selimoksuz/risk-model-pipeline.git@main\n",
    "\n",
    "print(\"\\n✅ Update complete! Importing package...\")\n",
    "import risk_pipeline\n",
    "print(f\"📌 Version: {risk_pipeline.__version__}\")"
   ]
  },
  {
   "cell_type": "code",
   "execution_count": null,
   "metadata": {},
   "outputs": [],
   "source": [
    "# Quick imports test\n",
    "from risk_pipeline import Config, DualPipeline, RiskModelPipeline\n",
    "from risk_pipeline.core import DataProcessor, FeatureEngineer\n",
    "from risk_pipeline.utils.safe_imports import check_dependencies\n",
    "\n",
    "print(\"✅ All imports successful!\")\n",
    "print(\"\\n📦 Available dependencies:\")\n",
    "check_dependencies(verbose=True)"
   ]
  },
  {
   "cell_type": "code",
   "execution_count": null,
   "metadata": {},
   "outputs": [],
   "source": [
    "# Quick functionality test\n",
    "import pandas as pd\n",
    "import numpy as np\n",
    "\n",
    "# Create minimal test data\n",
    "np.random.seed(42)\n",
    "n = 1000\n",
    "\n",
    "df = pd.DataFrame({\n",
    "    'app_id': range(n),\n",
    "    'app_dt': pd.date_range('2023-01-01', periods=n, freq='h'),\n",
    "    'target': np.random.binomial(1, 0.15, n),\n",
    "    'feature1': np.random.randn(n),\n",
    "    'feature2': np.random.randn(n) * 2,\n",
    "    'feature3': np.random.choice(['A', 'B', 'C'], n),\n",
    "})\n",
    "\n",
    "print(f\"Test data shape: {df.shape}\")\n",
    "print(f\"Target rate: {df['target'].mean():.2%}\")"
   ]
  },
  {
   "cell_type": "code",
   "execution_count": null,
   "metadata": {},
   "outputs": [],
   "source": [
    "# Quick pipeline test\n",
    "config = Config(\n",
    "    target_col='target',\n",
    "    enable_dual_pipeline=False,  # Faster for testing\n",
    "    use_optuna=False,  # Skip HPO for speed\n",
    "    n_trials=5,\n",
    "    cv_folds=2,\n",
    "    random_state=42\n",
    ")\n",
    "\n",
    "print(\"Running quick pipeline test...\")\n",
    "pipeline = RiskModelPipeline(config)\n",
    "\n",
    "try:\n",
    "    pipeline.run(df)\n",
    "    print(\"\\n✅ Pipeline ran successfully!\")\n",
    "    print(f\"Best model: {pipeline.best_model_name_}\")\n",
    "    if hasattr(pipeline, 'models_summary_'):\n",
    "        print(f\"Models trained: {len(pipeline.models_summary_)}\")\n",
    "except Exception as e:\n",
    "    print(f\"\\n❌ Pipeline error: {e}\")"
   ]
  },
  {
   "cell_type": "code",
   "execution_count": null,
   "metadata": {},
   "outputs": [],
   "source": [
    "# Test specific new features here\n",
    "print(\"Add your specific test code here...\")\n",
    "\n",
    "# Example: Test a specific function\n",
    "# from risk_pipeline.core.utils import compute_woe_iv\n",
    "# result = compute_woe_iv(10, 90, 100, 900)\n",
    "# print(f\"WOE test result: {result}\")"
   ]
  }
 ],
 "metadata": {
  "kernelspec": {
   "display_name": "Python 3",
   "language": "python",
   "name": "python3"
  },
  "language_info": {
   "codemirror_mode": {
    "name": "ipython",
    "version": 3
   },
   "file_extension": ".py",
   "mimetype": "text/x-python",
   "name": "python",
   "nbconvert_exporter": "python",
   "pygments_lexer": "ipython3",
   "version": "3.9.0"
  }
 },
 "nbformat": 4,
 "nbformat_minor": 4
}