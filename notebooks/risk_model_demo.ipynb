{
 "cells": [
  {
   "cell_type": "markdown",
   "metadata": {},
   "source": [
    "# Risk Model Pipeline Demo\n",
    "\n",
    "This notebook demonstrates how to use the risk-model-pipeline package."
   ]
  },
  {
   "cell_type": "code",
   "execution_count": null,
   "metadata": {},
   "outputs": [],
   "source": [
    "# Import required libraries\n",
    "import pandas as pd\n",
    "import numpy as np\n",
    "import matplotlib.pyplot as plt\n",
    "import seaborn as sns\n",
    "\n",
    "from risk_pipeline import RiskModelPipeline\n",
    "from risk_pipeline.core.config import Config\n",
    "\n",
    "# Set display options\n",
    "pd.set_option('display.max_columns', None)\n",
    "sns.set_style('whitegrid')"
   ]
  },
  {
   "cell_type": "markdown",
   "metadata": {},
   "source": [
    "## 1. Load Sample Data"
   ]
  },
  {
   "cell_type": "code",
   "execution_count": null,
   "metadata": {},
   "outputs": [],
   "source": [
    "# Load your data\n",
    "# df = pd.read_csv('../data/sample_data.csv')\n",
    "\n",
    "# For demo, create synthetic data\n",
    "np.random.seed(42)\n",
    "n_samples = 10000\n",
    "\n",
    "df = pd.DataFrame({\n",
    "    'app_id': range(n_samples),\n",
    "    'app_dt': pd.date_range('2023-01-01', periods=n_samples, freq='H'),\n",
    "    'feature1': np.random.randn(n_samples),\n",
    "    'feature2': np.random.randn(n_samples) * 2 + 1,\n",
    "    'feature3': np.random.choice(['A', 'B', 'C'], n_samples),\n",
    "    'feature4': np.random.exponential(2, n_samples),\n",
    "    'target': np.random.binomial(1, 0.3, n_samples)\n",
    "})\n",
    "\n",
    "print(f\"Data shape: {df.shape}\")\n",
    "print(f\"Target distribution:\\n{df['target'].value_counts()}\")\n",
    "df.head()"
   ]
  },
  {
   "cell_type": "markdown",
   "metadata": {},
   "source": [
    "## 2. Configure Pipeline"
   ]
  },
  {
   "cell_type": "code",
   "execution_count": null,
   "metadata": {},
   "outputs": [],
   "source": [
    "# Configure the pipeline\n",
    "config = Config(\n",
    "    target_col='target',\n",
    "    id_col='app_id',\n",
    "    time_col='app_dt',\n",
    "    output_folder='../output/demo',\n",
    "    \n",
    "    # Feature selection parameters\n",
    "    iv_min=0.02,\n",
    "    psi_threshold=0.25,\n",
    "    \n",
    "    # Model parameters\n",
    "    model_type='lightgbm',\n",
    "    use_optuna=False,\n",
    "    \n",
    "    # Split parameters\n",
    "    oot_months=1,\n",
    "    \n",
    "    # Report parameters\n",
    "    output_excel_path='model_report.xlsx'\n",
    ")\n",
    "\n",
    "print(\"Configuration set!\")"
   ]
  },
  {
   "cell_type": "markdown",
   "metadata": {},
   "source": [
    "## 3. Run Pipeline"
   ]
  },
  {
   "cell_type": "code",
   "execution_count": null,
   "metadata": {},
   "outputs": [],
   "source": [
    "# Initialize pipeline\n",
    "pipeline = RiskModelPipeline(config)\n",
    "\n",
    "# Run the pipeline\n",
    "results = pipeline.run(df)\n",
    "\n",
    "print(\"\\n\" + \"=\"*50)\n",
    "print(\"Pipeline Results:\")\n",
    "print(\"=\"*50)\n",
    "print(f\"Best Model: {pipeline.best_model_name_}\")\n",
    "print(f\"Train AUC: {pipeline.best_auc_:.4f}\")\n",
    "print(f\"Number of features selected: {len(pipeline.final_vars_)}\")"
   ]
  },
  {
   "cell_type": "markdown",
   "metadata": {},
   "source": [
    "## 4. Analyze Results"
   ]
  },
  {
   "cell_type": "code",
   "execution_count": null,
   "metadata": {},
   "outputs": [],
   "source": [
    "# Feature importance\n",
    "if hasattr(pipeline.best_model_, 'feature_importances_'):\n",
    "    feature_importance = pd.DataFrame({\n",
    "        'feature': pipeline.final_vars_,\n",
    "        'importance': pipeline.best_model_.feature_importances_\n",
    "    }).sort_values('importance', ascending=False)\n",
    "    \n",
    "    plt.figure(figsize=(10, 6))\n",
    "    plt.barh(feature_importance['feature'][:10], feature_importance['importance'][:10])\n",
    "    plt.xlabel('Importance')\n",
    "    plt.title('Top 10 Feature Importance')\n",
    "    plt.gca().invert_yaxis()\n",
    "    plt.tight_layout()\n",
    "    plt.show()"
   ]
  },
  {
   "cell_type": "markdown",
   "metadata": {},
   "source": [
    "## 5. Score New Data"
   ]
  },
  {
   "cell_type": "code",
   "execution_count": null,
   "metadata": {},
   "outputs": [],
   "source": [
    "# Create new data for scoring\n",
    "new_data = pd.DataFrame({\n",
    "    'app_id': range(100),\n",
    "    'feature1': np.random.randn(100),\n",
    "    'feature2': np.random.randn(100) * 2 + 1,\n",
    "    'feature3': np.random.choice(['A', 'B', 'C'], 100),\n",
    "    'feature4': np.random.exponential(2, 100)\n",
    "})\n",
    "\n",
    "# Score using the pipeline\n",
    "# scores = pipeline.score(new_data)\n",
    "\n",
    "print(\"Scoring complete!\")"
   ]
  }
 ],
 "metadata": {
  "kernelspec": {
   "display_name": "Python 3",
   "language": "python",
   "name": "python3"
  },
  "language_info": {
   "codemirror_mode": {
    "name": "ipython",
    "version": 3
   },
   "file_extension": ".py",
   "mimetype": "text/x-python",
   "name": "python",
   "nbconvert_exporter": "python",
   "pygments_lexer": "ipython3",
   "version": "3.8.0"
  }
 },
 "nbformat": 4,
 "nbformat_minor": 4
}