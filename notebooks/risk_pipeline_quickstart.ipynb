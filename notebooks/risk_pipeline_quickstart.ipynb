{
 "cells": [
  {
   "cell_type": "markdown",
   "id": "3f0d965a",
   "metadata": {},
   "source": [
    "# Credit Risk Pipeline Quickstart\n",
    "\n",
    "This notebook exercises the **Unified Risk Pipeline** end-to-end using the bundled synthetic dataset.\n",
    "The sample includes stratified monthly observations, calibration hold-outs, stage-2 data and a future\n",
    "scoring batch so that every major pipeline stage can be validated quickly."
   ]
  },
  {
   "cell_type": "markdown",
   "id": "f657ebc6",
   "metadata": {},
   "source": [
    "## 1. Imports and paths\n",
    "\n",
    "All sample inputs live under `examples/data/credit_risk_sample`."
   ]
  },
  {
   "cell_type": "code",
   "execution_count": null,
   "id": "6cdedf8a",
   "metadata": {},
   "outputs": [],
   "source": [
    "from pathlib import Path\n",
    "import pandas as pd\n",
    "\n",
    "from risk_pipeline.core.config import Config\n",
    "from risk_pipeline.unified_pipeline import UnifiedRiskPipeline\n",
    "\n",
    "BASE_DIR = Path('examples/data/credit_risk_sample')\n",
    "DEV_PATH = BASE_DIR / 'development.csv'\n",
    "CAL_LONG_PATH = BASE_DIR / 'calibration_longrun.csv'\n",
    "CAL_RECENT_PATH = BASE_DIR / 'calibration_recent.csv'\n",
    "SCORE_PATH = BASE_DIR / 'scoring_future.csv'\n",
    "DICT_PATH = BASE_DIR / 'data_dictionary.csv'\n",
    "OUTPUT_DIR = Path('output/credit_risk_sample_notebook')\n",
    "OUTPUT_DIR.mkdir(parents=True, exist_ok=True)\n",
    "\n",
    "dev_df = pd.read_csv(DEV_PATH)\n",
    "cal_long_df = pd.read_csv(CAL_LONG_PATH)\n",
    "cal_recent_df = pd.read_csv(CAL_RECENT_PATH)\n",
    "score_df = pd.read_csv(SCORE_PATH)\n",
    "data_dictionary = pd.read_csv(DICT_PATH)\n",
    "\n",
    "dev_df.head()"
   ]
  },
  {
   "cell_type": "markdown",
   "id": "b5432676",
   "metadata": {},
   "source": [
    "## 2. Quick sanity checks"
   ]
  },
  {
   "cell_type": "code",
   "execution_count": null,
   "id": "fd770bfd",
   "metadata": {},
   "outputs": [],
   "source": [
    "dev_df['target'].value_counts(normalize=True).rename('default_rate')"
   ]
  },
  {
   "cell_type": "code",
   "execution_count": null,
   "id": "651ababc",
   "metadata": {},
   "outputs": [],
   "source": [
    "dev_df.groupby('snapshot_month')['target'].mean().rename('monthly_default_rate')"
   ]
  },
  {
   "cell_type": "markdown",
   "id": "ca314ca9",
   "metadata": {},
   "source": [
    "## 3. Configure the pipeline\n",
    "\n",
    "The configuration below enables tsfresh feature generation, dual modelling flow (WOE + raw),\n",
    "calibration stages and risk band optimisation while remaining light enough for a laptop."
   ]
  },
  {
   "cell_type": "code",
   "execution_count": null,
   "id": "1c86d794",
   "metadata": {},
   "outputs": [],
   "source": [
    "cfg = Config(\n",
    "    target_column='target',\n",
    "    id_column='customer_id',\n",
    "    time_column='app_dt',\n",
    "    create_test_split=True,\n",
    "    stratify_test=True,\n",
    "    oot_months=2,\n",
    "    enable_dual=True,\n",
    "    enable_tsfresh_features=True,\n",
    "    enable_scoring=True,\n",
    "    enable_stage2_calibration=True,\n",
    "    output_folder=str(OUTPUT_DIR),\n",
    "    n_risk_bands=6,\n",
    "    risk_band_method='quantile',\n",
    "    max_psi=0.6,\n",
    "    selection_steps=['psi', 'univariate', 'iv', 'correlation', 'stepwise'],\n",
    "    algorithms=['logistic', 'lightgbm'],\n",
    "    use_optuna=False,\n",
    "    calculate_shap=False,\n",
    "    use_noise_sentinel=False,\n",
    "    random_state=42,\n",
    ")\n",
    "cfg.model_type = ['LogisticRegression', 'LightGBM']"
   ]
  },
  {
   "cell_type": "markdown",
   "id": "d43998bb",
   "metadata": {},
   "source": [
    "## 4. Run the unified pipeline"
   ]
  },
  {
   "cell_type": "code",
   "execution_count": null,
   "id": "9090e407",
   "metadata": {},
   "outputs": [],
   "source": [
    "pipe = UnifiedRiskPipeline(cfg)\n",
    "results = pipe.fit(\n",
    "    dev_df,\n",
    "    data_dictionary=data_dictionary,\n",
    "    calibration_df=cal_long_df,\n",
    "    stage2_df=cal_recent_df,\n",
    "    score_df=score_df,\n",
    ")"
   ]
  },
  {
   "cell_type": "markdown",
   "id": "f890b772",
   "metadata": {},
   "source": [
    "## 5. Inspect key outputs"
   ]
  },
  {
   "cell_type": "code",
   "execution_count": null,
   "id": "46ae8868",
   "metadata": {},
   "outputs": [],
   "source": [
    "best_model = results.get('best_model_name')\n",
    "model_scores = results.get('model_results', {}).get('scores', {})\n",
    "print(f'Best model: {best_model}')\n",
    "pd.DataFrame(model_scores).T"
   ]
  },
  {
   "cell_type": "code",
   "execution_count": null,
   "id": "d24ff1b1",
   "metadata": {},
   "outputs": [],
   "source": [
    "feature_report = pipe.reporter.reports_.get('features')\n",
    "feature_report.head() if feature_report is not None else 'No feature report available.'"
   ]
  },
  {
   "cell_type": "code",
   "execution_count": null,
   "id": "fa2794f4",
   "metadata": {},
   "outputs": [],
   "source": [
    "calibration_report = pipe.reporter.reports_.get('calibration')\n",
    "calibration_report"
   ]
  },
  {
   "cell_type": "code",
   "execution_count": null,
   "id": "69f5fa97",
   "metadata": {},
   "outputs": [],
   "source": [
    "risk_bands = pipe.reporter.reports_.get('risk_bands_summary', {})\n",
    "risk_bands"
   ]
  },
  {
   "cell_type": "markdown",
   "id": "9cde5720",
   "metadata": {},
   "source": [
    "## 6. Generated files"
   ]
  },
  {
   "cell_type": "code",
   "execution_count": null,
   "id": "dc6e5d56",
   "metadata": {},
   "outputs": [],
   "source": [
    "sorted(p.relative_to(OUTPUT_DIR.parent) for p in OUTPUT_DIR.glob('**/*') if p.is_file())"
   ]
  },
  {
   "cell_type": "markdown",
   "id": "e289a650",
   "metadata": {},
   "source": [
    "## 7. Automating via script\n",
    "\n",
    "`examples/quickstart_demo.py` mirrors the steps above so the flow can be validated headless\n",
    "(e.g. in CI pipelines)."
   ]
  }
 ],
 "metadata": {},
 "nbformat": 4,
 "nbformat_minor": 5
}
