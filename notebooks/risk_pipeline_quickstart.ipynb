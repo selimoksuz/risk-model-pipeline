{
 "cells": [
  {
   "cell_type": "markdown",
   "id": "1f5cc9d8",
   "metadata": {},
   "source": [
    "# Credit Risk Pipeline Quickstart\n",
    "\n",
    "This notebook exercises the **Unified Risk Pipeline** end-to-end using the bundled synthetic dataset.\n",
    "The sample includes stratified monthly observations, calibration hold-outs, stage-2 data and a future\n",
    "scoring batch so that every major pipeline step can be validated quickly."
   ]
  },
  {
   "cell_type": "markdown",
   "id": "7aea7660",
   "metadata": {},
   "source": [
    "## 0. Environment setup\n",
    "\n",
    "Install the latest development build of the pipeline (with notebook extras) directly from GitHub.\n",
    "Re-run this cell if you refresh the kernel."
   ]
  },
  {
   "cell_type": "code",
   "execution_count": null,
   "id": "1f96428e",
   "metadata": {},
   "outputs": [],
   "source": [
    "%pip uninstall -y risk-pipeline"
   ]
  },
  {
   "cell_type": "code",
   "execution_count": null,
   "id": "63b4c020",
   "metadata": {},
   "outputs": [],
   "source": [
    "%pip install --quiet --no-cache-dir --upgrade --force-reinstall git+https://github.com/selimoksuz/risk-model-pipeline.git@development#egg=risk-pipeline[ml,notebook]"
   ]
  },
  {
   "cell_type": "markdown",
   "id": "c2f36554",
   "metadata": {},
   "source": [
    "## 1. Imports and sample loader\n",
    "\n",
    "The dataset ships with the package under `risk_pipeline.data.sample`."
   ]
  },
  {
   "cell_type": "code",
   "execution_count": null,
   "id": "b92a4994",
   "metadata": {},
   "outputs": [],
   "source": [
    "from pathlib import Path\n",
    "import pandas as pd\n",
    "\n",
    "from risk_pipeline.core.config import Config\n",
    "from risk_pipeline.unified_pipeline import UnifiedRiskPipeline\n",
    "from risk_pipeline.data.sample import load_credit_risk_sample\n",
    "\n",
    "sample = load_credit_risk_sample()\n",
    "OUTPUT_DIR = Path('output/credit_risk_sample_notebook')\n",
    "OUTPUT_DIR.mkdir(parents=True, exist_ok=True)\n",
    "\n",
    "dev_df = sample.development\n",
    "cal_long_df = sample.calibration_longrun\n",
    "cal_recent_df = sample.calibration_recent\n",
    "score_df = sample.scoring_future\n",
    "data_dictionary = sample.data_dictionary\n",
    "\n",
    "dev_df.head()"
   ]
  },
  {
   "cell_type": "markdown",
   "id": "350dd7fb",
   "metadata": {},
   "source": [
    "## 2. Quick sanity checks"
   ]
  },
  {
   "cell_type": "code",
   "execution_count": null,
   "id": "a48ea7c4",
   "metadata": {},
   "outputs": [],
   "source": [
    "dev_df['target'].value_counts(normalize=True).rename('default_rate')"
   ]
  },
  {
   "cell_type": "code",
   "execution_count": null,
   "id": "4c503422",
   "metadata": {},
   "outputs": [],
   "source": [
    "dev_df.groupby('snapshot_month')['target'].mean().rename('monthly_default_rate')"
   ]
  },
  {
   "cell_type": "markdown",
   "id": "e0b43368",
   "metadata": {},
   "source": [
    "## 3. Configure the pipeline\n",
    "\n",
    "The configuration below enables dual modelling (raw + WoE), Optuna (single rapid trial), balanced model selection with stability guard rails,\n",
    "noise sentinel monitoring, SHAP explainability, the WoE-LI and Shao logistic challengers, and the PD-constrained risk band optimizer.\n",
    "Train/Test/OOT ratios and all threshold knobs (PSI/IV/Gini/Correlation) are explicit so the notebook mirrors production-ready configuration files."
   ]
  },
  {
   "cell_type": "code",
   "execution_count": null,
   "id": "9d222113",
   "metadata": {},
   "outputs": [],
   "source": [
    "cfg = Config(\n",
    "    target_column='target',\n",
    "    id_column='customer_id',\n",
    "    time_column='app_dt',\n",
    "    create_test_split=True,\n",
    "    use_test_split=True,\n",
    "    train_ratio=0.6,\n",
    "    test_ratio=0.2,\n",
    "    oot_ratio=0.2,\n",
    "    stratify_test=True,\n",
    "    oot_months=2,\n",
    "    enable_dual=True,\n",
    "    enable_tsfresh_features=True,\n",
    "    enable_scoring=True,\n",
    "    enable_stage2_calibration=True,\n",
    "    output_folder=str(OUTPUT_DIR),\n",
    "    selection_steps=['psi', 'univariate', 'iv', 'correlation', 'boruta', 'stepwise'],\n",
    "    algorithms=[\n",
    "        'logistic', 'gam', 'catboost', 'lightgbm', 'xgboost',\n",
    "        'randomforest', 'extratrees', 'woe_boost', 'woe_li', 'shao', 'xbooster',\n",
    "    ],\n",
    "    model_selection_method='balanced',\n",
    "    model_stability_weight=0.25,\n",
    "    min_gini_threshold=0.45,\n",
    "    max_train_oot_gap=0.08,\n",
    "    psi_threshold=0.25,\n",
    "    iv_threshold=0.02,\n",
    "    univariate_gini_threshold=0.05,\n",
    "    correlation_threshold=0.95,\n",
    "    vif_threshold=5.0,\n",
    "    woe_binning_strategy='iv_optimal',\n",
    "    use_optuna=True,\n",
    "    n_trials=1,\n",
    "    optuna_timeout=120,\n",
    "    hpo_method='optuna',\n",
    "    hpo_trials=1,\n",
    "    hpo_timeout_sec=120,\n",
    "    use_noise_sentinel=True,\n",
    "    calculate_shap=True,\n",
    "    shap_sample_size=500,\n",
    "    risk_band_method='pd_constraints',\n",
    "    n_risk_bands=8,\n",
    "    risk_band_min_bins=7,\n",
    "    risk_band_max_bins=10,\n",
    "    risk_band_micro_bins=1000,\n",
    "    risk_band_min_weight=0.05,\n",
    "    risk_band_max_weight=0.30,\n",
    "    risk_band_hhi_threshold=0.15,\n",
    "    risk_band_binomial_pass_weight=0.85,\n",
    "    risk_band_alpha=0.05,\n",
    "    risk_band_pd_dr_tolerance=1e-4,\n",
    "    risk_band_max_iterations=100,\n",
    "    risk_band_max_phase_iterations=50,\n",
    "    risk_band_early_stop_rounds=10,\n",
    "    calibration_stage1_method='isotonic',\n",
    "    calibration_stage2_method='lower_mean',\n",
    "    random_state=42,\n",
    ")\n",
    "cfg.model_type = 'all'\n"
   ]
  },
  {
   "cell_type": "markdown",
   "id": "529b3124",
   "metadata": {},
   "source": [
    "## 4. Run the unified pipeline"
   ]
  },
  {
   "cell_type": "code",
   "execution_count": null,
   "id": "2e514bb7",
   "metadata": {},
   "outputs": [],
   "source": [
    "pipe = UnifiedRiskPipeline(cfg)\n",
    "results = pipe.fit(\n",
    "    dev_df,\n",
    "    data_dictionary=data_dictionary,\n",
    "    calibration_df=cal_long_df,\n",
    "    stage2_df=cal_recent_df,\n",
    "    score_df=score_df,\n",
    ")"
   ]
  },
  {
   "cell_type": "markdown",
   "id": "ad636325",
   "metadata": {},
   "source": [
    "## 5. Inspect key outputs"
   ]
  },
  {
   "cell_type": "code",
   "execution_count": null,
   "id": "de65c2e6",
   "metadata": {},
   "outputs": [],
   "source": [
    "best_model = results.get('best_model_name')\n",
    "model_scores = results.get('model_results', {}).get('scores', {})\n",
    "print(f'Best model: {best_model}')\n",
    "pd.DataFrame(model_scores).T"
   ]
  },
  {
   "cell_type": "code",
   "execution_count": null,
   "id": "823b899e",
   "metadata": {},
   "outputs": [],
   "source": [
    "feature_report = pipe.reporter.reports_.get('features')\n",
    "feature_report.head() if feature_report is not None else 'No feature report available.'"
   ]
  },
  {
   "cell_type": "code",
   "execution_count": null,
   "id": "8e0bb3b1",
   "metadata": {},
   "outputs": [],
   "source": [
    "calibration_report = pipe.reporter.reports_.get('calibration')\n",
    "calibration_report"
   ]
  },
  {
   "cell_type": "code",
   "execution_count": null,
   "id": "29c761e3",
   "metadata": {},
   "outputs": [],
   "source": [
    "risk_bands = pipe.reporter.reports_.get('risk_bands_summary', {})\n",
    "risk_bands"
   ]
  },
  {
   "cell_type": "markdown",
   "id": "d2d185e2",
   "metadata": {},
   "source": [
    "## 6. Generated files"
   ]
  },
  {
   "cell_type": "code",
   "execution_count": null,
   "id": "33d39a46",
   "metadata": {},
   "outputs": [],
   "source": [
    "sorted(p.relative_to(OUTPUT_DIR.parent) for p in OUTPUT_DIR.glob('**/*') if p.is_file())"
   ]
  },
  {
   "cell_type": "markdown",
   "id": "40206645",
   "metadata": {},
   "source": [
    "## 7. XBooster scorecard"
   ]
  },
  {
   "cell_type": "code",
   "execution_count": null,
   "id": "7c41598a",
   "metadata": {},
   "outputs": [],
   "source": [
    "xbooster_artifacts = results.get('model_results', {}).get('interpretability', {}).get('XBooster', {})\n",
    "if isinstance(xbooster_artifacts, dict):\n",
    "    scorecard_df = xbooster_artifacts.get('scorecard_points')\n",
    "    warnings = xbooster_artifacts.get('warnings')\n",
    "    display_obj = scorecard_df.head() if hasattr(scorecard_df, 'head') else xbooster_artifacts\n",
    "else:\n",
    "    warnings = None\n",
    "    display_obj = 'No XBooster artifacts available.'\n",
    "print('Warnings:', warnings if warnings else 'None')\n",
    "display_obj"
   ]
  },
  {
   "cell_type": "markdown",
   "id": "a04f049c",
   "metadata": {},
   "source": [
    "## 8. Automating via script\n",
    "\n",
    "`examples/quickstart_demo.py` mirrors the steps above so the flow can be validated headless\n",
    "(e.g. in CI pipelines)."
   ]
  }
 ],
 "metadata": {},
 "nbformat": 4,
 "nbformat_minor": 5
}
