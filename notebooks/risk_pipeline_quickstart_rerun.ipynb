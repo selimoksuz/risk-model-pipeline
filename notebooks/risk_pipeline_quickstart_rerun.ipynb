{
 "cells": [
  {
   "cell_type": "markdown",
   "id": "5dfd24c9",
   "metadata": {},
   "source": [
    "# Credit Risk Pipeline Quickstart\n",
    "\n",
    "This notebook exercises the **Unified Risk Pipeline** end-to-end using the bundled synthetic dataset.\n",
    "The sample includes stratified monthly observations, calibration hold-outs, stage-2 data and a future\n",
    "scoring batch so that every major pipeline step can be validated quickly."
   ]
  },
  {
   "cell_type": "markdown",
   "id": "ff4cc2bd",
   "metadata": {},
   "source": [
    "## 0. Environment setup\n",
    "\n",
    "Install the latest development build of the pipeline (latest development build) directly from GitHub.\n",
    "Re-run this cell if you refresh the kernel."
   ]
  },
  {
   "cell_type": "code",
   "execution_count": 1,
   "id": "e44d8807",
   "metadata": {
    "execution": {
     "iopub.execute_input": "2025-09-25T19:39:11.885158Z",
     "iopub.status.busy": "2025-09-25T19:39:11.884159Z",
     "iopub.status.idle": "2025-09-25T19:39:29.394414Z",
     "shell.execute_reply": "2025-09-25T19:39:29.393414Z"
    }
   },
   "outputs": [
    {
     "name": "stdout",
     "output_type": "stream",
     "text": [
      "Note: you may need to restart the kernel to use updated packages.\n"
     ]
    },
    {
     "name": "stderr",
     "output_type": "stream",
     "text": [
      "WARNING: Ignoring invalid distribution -illow (c:\\users\\acer\\anaconda3\\lib\\site-packages)\n",
      "WARNING: Ignoring invalid distribution - (c:\\users\\acer\\anaconda3\\lib\\site-packages)\n",
      "WARNING: Ignoring invalid distribution -atplotlib (c:\\users\\acer\\anaconda3\\lib\\site-packages)\n",
      "WARNING: Ignoring invalid distribution -illow (c:\\users\\acer\\anaconda3\\lib\\site-packages)\n",
      "WARNING: Ignoring invalid distribution - (c:\\users\\acer\\anaconda3\\lib\\site-packages)\n",
      "WARNING: Ignoring invalid distribution -atplotlib (c:\\users\\acer\\anaconda3\\lib\\site-packages)\n",
      "    WARNING: Ignoring invalid distribution -illow (c:\\users\\acer\\anaconda3\\lib\\site-packages)\n",
      "    WARNING: Ignoring invalid distribution - (c:\\users\\acer\\anaconda3\\lib\\site-packages)\n",
      "    WARNING: Ignoring invalid distribution -atplotlib (c:\\users\\acer\\anaconda3\\lib\\site-packages)\n",
      "WARNING: Ignoring invalid distribution -illow (c:\\users\\acer\\anaconda3\\lib\\site-packages)\n",
      "WARNING: Ignoring invalid distribution - (c:\\users\\acer\\anaconda3\\lib\\site-packages)\n",
      "WARNING: Ignoring invalid distribution -atplotlib (c:\\users\\acer\\anaconda3\\lib\\site-packages)\n",
      "WARNING: Ignoring invalid distribution -illow (c:\\users\\acer\\anaconda3\\lib\\site-packages)\n",
      "WARNING: Ignoring invalid distribution - (c:\\users\\acer\\anaconda3\\lib\\site-packages)\n",
      "WARNING: Ignoring invalid distribution -atplotlib (c:\\users\\acer\\anaconda3\\lib\\site-packages)\n",
      "WARNING: Ignoring invalid distribution -illow (c:\\users\\acer\\anaconda3\\lib\\site-packages)\n",
      "WARNING: Ignoring invalid distribution - (c:\\users\\acer\\anaconda3\\lib\\site-packages)\n",
      "WARNING: Ignoring invalid distribution -atplotlib (c:\\users\\acer\\anaconda3\\lib\\site-packages)\n",
      "WARNING: Ignoring invalid distribution -illow (c:\\users\\acer\\anaconda3\\lib\\site-packages)\n",
      "WARNING: Ignoring invalid distribution - (c:\\users\\acer\\anaconda3\\lib\\site-packages)\n",
      "WARNING: Ignoring invalid distribution -atplotlib (c:\\users\\acer\\anaconda3\\lib\\site-packages)\n"
     ]
    }
   ],
   "source": [
    "%pip install --quiet --no-cache-dir --upgrade --no-deps --force-reinstall \"risk-pipeline[ml,notebook] @ git+https://github.com/selimoksuz/risk-model-pipeline.git@development\""
   ]
  },
  {
   "cell_type": "markdown",
   "id": "d62ed2c3",
   "metadata": {},
   "source": [
    "## 1. Imports and sample loader\n",
    "\n",
    "The dataset ships with the package under `risk_pipeline.data.sample`."
   ]
  },
  {
   "cell_type": "code",
   "execution_count": 2,
   "id": "c082243b",
   "metadata": {
    "execution": {
     "iopub.execute_input": "2025-09-25T19:39:29.398413Z",
     "iopub.status.busy": "2025-09-25T19:39:29.398413Z",
     "iopub.status.idle": "2025-09-25T19:39:32.647159Z",
     "shell.execute_reply": "2025-09-25T19:39:32.646255Z"
    }
   },
   "outputs": [
    {
     "data": {
      "text/html": [
       "<div>\n",
       "<style scoped>\n",
       "    .dataframe tbody tr th:only-of-type {\n",
       "        vertical-align: middle;\n",
       "    }\n",
       "\n",
       "    .dataframe tbody tr th {\n",
       "        vertical-align: top;\n",
       "    }\n",
       "\n",
       "    .dataframe thead th {\n",
       "        text-align: right;\n",
       "    }\n",
       "</style>\n",
       "<table border=\"1\" class=\"dataframe\">\n",
       "  <thead>\n",
       "    <tr style=\"text-align: right;\">\n",
       "      <th></th>\n",
       "      <th>app_id</th>\n",
       "      <th>customer_id</th>\n",
       "      <th>app_dt</th>\n",
       "      <th>snapshot_month</th>\n",
       "      <th>bureau_score</th>\n",
       "      <th>utilization_ratio</th>\n",
       "      <th>credit_usage_ratio</th>\n",
       "      <th>payment_income_ratio</th>\n",
       "      <th>balance_to_limit</th>\n",
       "      <th>monthly_spend</th>\n",
       "      <th>segment</th>\n",
       "      <th>region</th>\n",
       "      <th>employment_type</th>\n",
       "      <th>delinquent_last_6m</th>\n",
       "      <th>open_trades</th>\n",
       "      <th>channel_code</th>\n",
       "      <th>promo_flag</th>\n",
       "      <th>noise_feature</th>\n",
       "      <th>target</th>\n",
       "    </tr>\n",
       "  </thead>\n",
       "  <tbody>\n",
       "    <tr>\n",
       "      <th>0</th>\n",
       "      <td>A031937001</td>\n",
       "      <td>319</td>\n",
       "      <td>2023-01-01</td>\n",
       "      <td>2023-01</td>\n",
       "      <td>654.0</td>\n",
       "      <td>1.000</td>\n",
       "      <td>0.878</td>\n",
       "      <td>0.267</td>\n",
       "      <td>0.929</td>\n",
       "      <td>1956.35</td>\n",
       "      <td>Retail</td>\n",
       "      <td>East</td>\n",
       "      <td>Contract</td>\n",
       "      <td>1</td>\n",
       "      <td>3</td>\n",
       "      <td>Online</td>\n",
       "      <td>0</td>\n",
       "      <td>0.7536</td>\n",
       "      <td>1</td>\n",
       "    </tr>\n",
       "    <tr>\n",
       "      <th>1</th>\n",
       "      <td>A029737002</td>\n",
       "      <td>297</td>\n",
       "      <td>2023-01-01</td>\n",
       "      <td>2023-01</td>\n",
       "      <td>602.0</td>\n",
       "      <td>0.971</td>\n",
       "      <td>0.853</td>\n",
       "      <td>0.288</td>\n",
       "      <td>0.900</td>\n",
       "      <td>1802.07</td>\n",
       "      <td>Retail</td>\n",
       "      <td>East</td>\n",
       "      <td>Salaried</td>\n",
       "      <td>1</td>\n",
       "      <td>5</td>\n",
       "      <td>Online</td>\n",
       "      <td>0</td>\n",
       "      <td>0.3251</td>\n",
       "      <td>1</td>\n",
       "    </tr>\n",
       "    <tr>\n",
       "      <th>2</th>\n",
       "      <td>A021237003</td>\n",
       "      <td>212</td>\n",
       "      <td>2023-01-01</td>\n",
       "      <td>2023-01</td>\n",
       "      <td>657.0</td>\n",
       "      <td>1.000</td>\n",
       "      <td>0.872</td>\n",
       "      <td>0.270</td>\n",
       "      <td>0.926</td>\n",
       "      <td>2169.97</td>\n",
       "      <td>Retail</td>\n",
       "      <td>East</td>\n",
       "      <td>Self-Employed</td>\n",
       "      <td>1</td>\n",
       "      <td>5</td>\n",
       "      <td>Branch</td>\n",
       "      <td>0</td>\n",
       "      <td>0.7342</td>\n",
       "      <td>1</td>\n",
       "    </tr>\n",
       "    <tr>\n",
       "      <th>3</th>\n",
       "      <td>A038237004</td>\n",
       "      <td>382</td>\n",
       "      <td>2023-01-01</td>\n",
       "      <td>2023-01</td>\n",
       "      <td>671.0</td>\n",
       "      <td>0.551</td>\n",
       "      <td>0.476</td>\n",
       "      <td>0.282</td>\n",
       "      <td>0.548</td>\n",
       "      <td>1806.44</td>\n",
       "      <td>Retail</td>\n",
       "      <td>South</td>\n",
       "      <td>Salaried</td>\n",
       "      <td>1</td>\n",
       "      <td>2</td>\n",
       "      <td>Online</td>\n",
       "      <td>0</td>\n",
       "      <td>0.8138</td>\n",
       "      <td>0</td>\n",
       "    </tr>\n",
       "    <tr>\n",
       "      <th>4</th>\n",
       "      <td>A023037005</td>\n",
       "      <td>230</td>\n",
       "      <td>2023-01-01</td>\n",
       "      <td>2023-01</td>\n",
       "      <td>654.0</td>\n",
       "      <td>0.432</td>\n",
       "      <td>0.380</td>\n",
       "      <td>0.208</td>\n",
       "      <td>0.396</td>\n",
       "      <td>1862.57</td>\n",
       "      <td>Retail</td>\n",
       "      <td>East</td>\n",
       "      <td>Self-Employed</td>\n",
       "      <td>0</td>\n",
       "      <td>4</td>\n",
       "      <td>Branch</td>\n",
       "      <td>0</td>\n",
       "      <td>0.1430</td>\n",
       "      <td>0</td>\n",
       "    </tr>\n",
       "  </tbody>\n",
       "</table>\n",
       "</div>"
      ],
      "text/plain": [
       "       app_id  customer_id      app_dt snapshot_month  bureau_score  \\\n",
       "0  A031937001          319  2023-01-01        2023-01         654.0   \n",
       "1  A029737002          297  2023-01-01        2023-01         602.0   \n",
       "2  A021237003          212  2023-01-01        2023-01         657.0   \n",
       "3  A038237004          382  2023-01-01        2023-01         671.0   \n",
       "4  A023037005          230  2023-01-01        2023-01         654.0   \n",
       "\n",
       "   utilization_ratio  credit_usage_ratio  payment_income_ratio  \\\n",
       "0              1.000               0.878                 0.267   \n",
       "1              0.971               0.853                 0.288   \n",
       "2              1.000               0.872                 0.270   \n",
       "3              0.551               0.476                 0.282   \n",
       "4              0.432               0.380                 0.208   \n",
       "\n",
       "   balance_to_limit  monthly_spend segment region employment_type  \\\n",
       "0             0.929        1956.35  Retail   East        Contract   \n",
       "1             0.900        1802.07  Retail   East        Salaried   \n",
       "2             0.926        2169.97  Retail   East   Self-Employed   \n",
       "3             0.548        1806.44  Retail  South        Salaried   \n",
       "4             0.396        1862.57  Retail   East   Self-Employed   \n",
       "\n",
       "   delinquent_last_6m  open_trades channel_code  promo_flag  noise_feature  \\\n",
       "0                   1            3       Online           0         0.7536   \n",
       "1                   1            5       Online           0         0.3251   \n",
       "2                   1            5       Branch           0         0.7342   \n",
       "3                   1            2       Online           0         0.8138   \n",
       "4                   0            4       Branch           0         0.1430   \n",
       "\n",
       "   target  \n",
       "0       1  \n",
       "1       1  \n",
       "2       1  \n",
       "3       0  \n",
       "4       0  "
      ]
     },
     "execution_count": 2,
     "metadata": {},
     "output_type": "execute_result"
    }
   ],
   "source": [
    "from pathlib import Path\n",
    "import pandas as pd\n",
    "\n",
    "from risk_pipeline.core.config import Config\n",
    "from risk_pipeline.unified_pipeline import UnifiedRiskPipeline\n",
    "from risk_pipeline.data.sample import load_credit_risk_sample\n",
    "\n",
    "sample = load_credit_risk_sample()\n",
    "OUTPUT_DIR = Path('output/credit_risk_sample_notebook')\n",
    "OUTPUT_DIR.mkdir(parents=True, exist_ok=True)\n",
    "\n",
    "dev_df = sample.development\n",
    "cal_long_df = sample.calibration_longrun\n",
    "cal_recent_df = sample.calibration_recent\n",
    "score_df = sample.scoring_future\n",
    "data_dictionary = sample.data_dictionary\n",
    "\n",
    "dev_df.head()"
   ]
  },
  {
   "cell_type": "markdown",
   "id": "d401383f",
   "metadata": {},
   "source": [
    "## 2. Quick sanity checks"
   ]
  },
  {
   "cell_type": "code",
   "execution_count": 3,
   "id": "eee0dafa",
   "metadata": {
    "execution": {
     "iopub.execute_input": "2025-09-25T19:39:32.650158Z",
     "iopub.status.busy": "2025-09-25T19:39:32.649159Z",
     "iopub.status.idle": "2025-09-25T19:39:32.663159Z",
     "shell.execute_reply": "2025-09-25T19:39:32.662155Z"
    }
   },
   "outputs": [
    {
     "data": {
      "text/plain": [
       "0    0.72\n",
       "1    0.28\n",
       "Name: default_rate, dtype: float64"
      ]
     },
     "execution_count": 3,
     "metadata": {},
     "output_type": "execute_result"
    }
   ],
   "source": [
    "dev_df['target'].value_counts(normalize=True).rename('default_rate')"
   ]
  },
  {
   "cell_type": "code",
   "execution_count": 4,
   "id": "5fe05a0d",
   "metadata": {
    "execution": {
     "iopub.execute_input": "2025-09-25T19:39:32.668159Z",
     "iopub.status.busy": "2025-09-25T19:39:32.668159Z",
     "iopub.status.idle": "2025-09-25T19:39:32.679158Z",
     "shell.execute_reply": "2025-09-25T19:39:32.678160Z"
    }
   },
   "outputs": [
    {
     "data": {
      "text/plain": [
       "snapshot_month\n",
       "2023-01    0.28\n",
       "2023-02    0.28\n",
       "2023-03    0.28\n",
       "2023-04    0.28\n",
       "2023-05    0.28\n",
       "2023-06    0.28\n",
       "2023-07    0.28\n",
       "2023-08    0.28\n",
       "2023-09    0.28\n",
       "Name: monthly_default_rate, dtype: float64"
      ]
     },
     "execution_count": 4,
     "metadata": {},
     "output_type": "execute_result"
    }
   ],
   "source": [
    "dev_df.groupby('snapshot_month')['target'].mean().rename('monthly_default_rate')"
   ]
  },
  {
   "cell_type": "markdown",
   "id": "41159584",
   "metadata": {},
   "source": [
    "## 3. Configure the pipeline\n",
    "\n",
    "The configuration below enables dual modelling (raw + WoE), Optuna (single rapid trial), balanced model selection with stability guard rails,\n",
    "noise sentinel monitoring, SHAP explainability, the WoE-LI and Shao logistic challengers, and the PD-constrained risk band optimizer.\n",
    "Train/Test/OOT ratios and all threshold knobs (PSI/IV/Gini/Correlation) are explicit so the notebook mirrors production-ready configuration files."
   ]
  },
  {
   "cell_type": "code",
   "execution_count": 5,
   "id": "c2a49bfe",
   "metadata": {
    "execution": {
     "iopub.execute_input": "2025-09-25T19:39:32.683181Z",
     "iopub.status.busy": "2025-09-25T19:39:32.682157Z",
     "iopub.status.idle": "2025-09-25T19:39:32.695157Z",
     "shell.execute_reply": "2025-09-25T19:39:32.694193Z"
    }
   },
   "outputs": [],
   "source": [
    "cfg = Config(\n",
    "    target_column='target',\n",
    "    id_column='customer_id',\n",
    "    time_column='app_dt',\n",
    "    create_test_split=True,\n",
    "    use_test_split=True,\n",
    "    train_ratio=0.6,\n",
    "    test_ratio=0.2,\n",
    "    oot_ratio=0.2,\n",
    "    stratify_test=True,\n",
    "    oot_months=2,\n",
    "    enable_dual=True,\n",
    "    enable_tsfresh_features=True,\n",
    "    enable_scoring=True,\n",
    "    enable_stage2_calibration=True,\n",
    "    output_folder=str(OUTPUT_DIR),\n",
    "    selection_steps=['psi', 'univariate', 'iv', 'correlation', 'boruta', 'stepwise'],\n",
    "    algorithms=[\n",
    "        'logistic', 'gam', 'catboost', 'lightgbm', 'xgboost',\n",
    "        'randomforest', 'extratrees', 'woe_boost', 'woe_li', 'shao', 'xbooster',\n",
    "    ],\n",
    "    model_selection_method='balanced',\n",
    "    model_stability_weight=0.25,\n",
    "    min_gini_threshold=0.45,\n",
    "    max_train_oot_gap=0.08,\n",
    "    psi_threshold=0.25,\n",
    "    iv_threshold=0.02,\n",
    "    univariate_gini_threshold=0.05,\n",
    "    correlation_threshold=0.95,\n",
    "    vif_threshold=5.0,\n",
    "    woe_binning_strategy='iv_optimal',\n",
    "    use_optuna=True,\n",
    "    n_trials=1,\n",
    "    optuna_timeout=120,\n",
    "    hpo_method='optuna',\n",
    "    hpo_trials=1,\n",
    "    hpo_timeout_sec=120,\n",
    "    use_noise_sentinel=True,\n",
    "    calculate_shap=True,\n",
    "    shap_sample_size=500,\n",
    "    risk_band_method='pd_constraints',\n",
    "    n_risk_bands=8,\n",
    "    risk_band_min_bins=7,\n",
    "    risk_band_max_bins=10,\n",
    "    risk_band_micro_bins=1000,\n",
    "    risk_band_min_weight=0.05,\n",
    "    risk_band_max_weight=0.30,\n",
    "    risk_band_hhi_threshold=0.15,\n",
    "    risk_band_binomial_pass_weight=0.85,\n",
    "    risk_band_alpha=0.05,\n",
    "    risk_band_pd_dr_tolerance=1e-4,\n",
    "    risk_band_max_iterations=100,\n",
    "    risk_band_max_phase_iterations=50,\n",
    "    risk_band_early_stop_rounds=10,\n",
    "    calibration_stage1_method='isotonic',\n",
    "    calibration_stage2_method='lower_mean',\n",
    "    random_state=42,\n",
    ")\n",
    "cfg.model_type = 'all'\n"
   ]
  },
  {
   "cell_type": "markdown",
   "id": "f9e5543e",
   "metadata": {},
   "source": [
    "## 4. Run the unified pipeline"
   ]
  },
  {
   "cell_type": "code",
   "execution_count": 6,
   "id": "71519f7b",
   "metadata": {
    "execution": {
     "iopub.execute_input": "2025-09-25T19:39:32.698178Z",
     "iopub.status.busy": "2025-09-25T19:39:32.697172Z",
     "iopub.status.idle": "2025-09-25T19:40:13.825245Z",
     "shell.execute_reply": "2025-09-25T19:40:13.825245Z"
    }
   },
   "outputs": [
    {
     "name": "stdout",
     "output_type": "stream",
     "text": [
      "================================================================================\n",
      "UNIFIED RISK PIPELINE EXECUTION\n",
      "================================================================================\n",
      "\n",
      "[Step 1/10] Data Processing...\n",
      "  Added 40 tsfresh features\n",
      "  Found 50 numeric and 5 categorical features\n",
      "\n",
      "[Step 2/10] Data Splitting...\n",
      "  train: 2240 samples, default rate: 28.12%\n",
      "  test: 560 samples, default rate: 27.50%\n",
      "  oot: 800 samples, default rate: 28.00%\n",
      "\n",
      "[DUAL] Running RAW and WOE flows and selecting the best by AUC...\n",
      "\n",
      "[Step 3/10] WOE Transformation & Univariate Analysis...\n",
      "    WARNING: WOE significantly reduces Gini for open_trades\n",
      "    WARNING: WOE significantly reduces Gini for payment_income_ratio_mean_tsfresh\n",
      "    WARNING: WOE significantly reduces Gini for balance_to_limit_max_tsfresh\n",
      "    WARNING: WOE significantly reduces Gini for open_trades_std_tsfresh\n",
      "    WARNING: WOE significantly reduces Gini for promo_flag_mean_tsfresh\n",
      "  WOE hesaplandi: 56 degisken\n",
      "\n",
      "[Step 4/10] Feature Selection...\n",
      "  Applying psi selection...\n",
      "    Removing channel_code: oot psi 0.344 > 0.250\n",
      "    Removing promo_flag: oot psi 0.501 > 0.250\n",
      "    psi: 2 degisken cikarildi, 54 kaldi\n",
      "  Applying univariate selection...\n",
      "    Removing app_id: univariate gini 0.000 < 0.050\n",
      "    Removing open_trades: univariate gini 0.014 < 0.050\n",
      "    Removing noise_feature: univariate gini 0.031 < 0.050\n",
      "    Removing bureau_score_std_tsfresh: univariate gini 0.047 < 0.050\n",
      "    Removing utilization_ratio_std_tsfresh: univariate gini 0.038 < 0.050\n",
      "    Removing credit_usage_ratio_std_tsfresh: univariate gini 0.015 < 0.050\n",
      "    Removing payment_income_ratio_std_tsfresh: univariate gini 0.002 < 0.050\n",
      "    Removing balance_to_limit_std_tsfresh: univariate gini 0.024 < 0.050\n",
      "    Removing monthly_spend_min_tsfresh: univariate gini 0.046 < 0.050\n",
      "    Removing delinquent_last_6m_std_tsfresh: univariate gini 0.000 < 0.050\n",
      "    Removing open_trades_mean_tsfresh: univariate gini 0.049 < 0.050\n",
      "    Removing open_trades_std_tsfresh: univariate gini 0.022 < 0.050\n",
      "    Removing open_trades_min_tsfresh: univariate gini 0.003 < 0.050\n",
      "    Removing open_trades_max_tsfresh: univariate gini 0.018 < 0.050\n",
      "    Removing promo_flag_mean_tsfresh: univariate gini 0.003 < 0.050\n",
      "    Removing promo_flag_std_tsfresh: univariate gini 0.017 < 0.050\n",
      "    Removing promo_flag_min_tsfresh: univariate gini 0.000 < 0.050\n",
      "    Removing promo_flag_max_tsfresh: univariate gini 0.017 < 0.050\n",
      "    Removing noise_feature_mean_tsfresh: univariate gini 0.028 < 0.050\n",
      "    Removing noise_feature_std_tsfresh: univariate gini 0.014 < 0.050\n",
      "    Removing noise_feature_min_tsfresh: univariate gini 0.002 < 0.050\n",
      "    Removing noise_feature_max_tsfresh: univariate gini 0.008 < 0.050\n",
      "    Removing noise_sentinel: univariate gini 0.003 < 0.050\n",
      "    univariate: 23 degisken cikarildi, 31 kaldi\n",
      "  Applying iv selection...\n",
      "    iv: 0 degisken cikarildi, 31 kaldi\n",
      "  Applying correlation selection...\n",
      "    Removing credit_usage_ratio: Correlated with utilization_ratio (|corr|>0.95)\n",
      "    Removing balance_to_limit: Correlated with utilization_ratio (|corr|>0.95)\n",
      "    Removing credit_usage_ratio: Correlated with utilization_ratio (|corr|>0.95)\n",
      "    Removing bureau_score_mean_tsfresh: Correlated with bureau_score (|corr|>0.95)\n",
      "    Removing bureau_score_mean_tsfresh: Correlated with bureau_score (|corr|>0.95)\n",
      "    Removing bureau_score_min_tsfresh: Correlated with bureau_score (|corr|>0.95)\n",
      "    Removing bureau_score_max_tsfresh: Correlated with bureau_score (|corr|>0.95)\n",
      "    Removing bureau_score_mean_tsfresh: Correlated with bureau_score (|corr|>0.95)\n",
      "    Removing bureau_score_min_tsfresh: Correlated with bureau_score (|corr|>0.95)\n",
      "    Removing utilization_ratio_mean_tsfresh: Correlated with credit_usage_ratio_mean_tsfresh (|corr|>0.95)\n",
      "    Removing utilization_ratio_min_tsfresh: Correlated with credit_usage_ratio_min_tsfresh (|corr|>0.95)\n",
      "    Removing credit_usage_ratio_max_tsfresh: Correlated with utilization_ratio_max_tsfresh (|corr|>0.95)\n",
      "    Removing utilization_ratio_mean_tsfresh: Correlated with credit_usage_ratio_mean_tsfresh (|corr|>0.95)\n",
      "    Removing balance_to_limit_mean_tsfresh: Correlated with credit_usage_ratio_mean_tsfresh (|corr|>0.95)\n",
      "    Removing balance_to_limit_min_tsfresh: Correlated with credit_usage_ratio_min_tsfresh (|corr|>0.95)\n",
      "    Removing utilization_ratio_min_tsfresh: Correlated with credit_usage_ratio_min_tsfresh (|corr|>0.95)\n",
      "    Removing balance_to_limit_max_tsfresh: Correlated with utilization_ratio_max_tsfresh (|corr|>0.95)\n",
      "    Removing credit_usage_ratio_max_tsfresh: Correlated with utilization_ratio_max_tsfresh (|corr|>0.95)\n",
      "    Removing delinquent_last_6m: Correlated with delinquent_last_6m_mean_tsfresh (|corr|>0.95)\n",
      "    Removing delinquent_last_6m_min_tsfresh: Correlated with delinquent_last_6m_mean_tsfresh (|corr|>0.95)\n",
      "    Removing delinquent_last_6m: Correlated with delinquent_last_6m_mean_tsfresh (|corr|>0.95)\n",
      "    Removing delinquent_last_6m_min_tsfresh: Correlated with delinquent_last_6m_mean_tsfresh (|corr|>0.95)\n",
      "    Removing delinquent_last_6m_max_tsfresh: Correlated with delinquent_last_6m_mean_tsfresh (|corr|>0.95)\n",
      "    Removing delinquent_last_6m: Correlated with delinquent_last_6m_mean_tsfresh (|corr|>0.95)\n",
      "    correlation: 14 degisken cikarildi, 17 kaldi\n",
      "  Applying boruta selection...\n",
      "    Boruta selected 6 features from 17\n",
      "    boruta: 11 degisken cikarildi, 6 kaldi\n",
      "  Applying stepwise selection...\n",
      "    Starting Forward Selection...\n",
      "      Added bureau_score: AUC=0.8241\n",
      "      Added segment: AUC=0.8713\n",
      "      Added delinquent_last_6m_mean_tsfresh: AUC=0.9150\n",
      "      Added utilization_ratio: AUC=0.9184\n",
      "      Added payment_income_ratio: AUC=0.9271\n",
      "      Added region: AUC=0.9133\n",
      "    stepwise: 0 degisken cikarildi, 6 kaldi\n",
      "\n",
      "[Step 5/10] Model Training...\n",
      "  Training models on 6 features...\n",
      "    Training LogisticRegression...\n"
     ]
    },
    {
     "name": "stderr",
     "output_type": "stream",
     "text": [
      "[I 2025-09-25 22:39:47,260] A new study created in memory with name: no-name-e6640018-0a69-4e13-87d2-2a463ae5752e\n"
     ]
    },
    {
     "name": "stdout",
     "output_type": "stream",
     "text": [
      "      Train AUC: 0.9564, OOT AUC: 0.9240, Test AUC: 0.9509, |Train-OOT Gini gap|: 0.0647\n",
      "    Training RandomForest...\n"
     ]
    },
    {
     "name": "stderr",
     "output_type": "stream",
     "text": [
      "[I 2025-09-25 22:39:47,582] Trial 0 finished with value: 0.9369682042095836 and parameters: {'n_estimators': 144, 'max_depth': 10, 'min_samples_split': 40, 'min_samples_leaf': 14}. Best is trial 0 with value: 0.9369682042095836.\n",
      "[I 2025-09-25 22:39:48,042] A new study created in memory with name: no-name-ac979d0c-3040-46f8-a322-156e30b12688\n"
     ]
    },
    {
     "name": "stdout",
     "output_type": "stream",
     "text": [
      "      Train AUC: 0.9644, OOT AUC: 0.9136, Test AUC: 0.9370, |Train-OOT Gini gap|: 0.1016\n",
      "    Training ExtraTrees...\n"
     ]
    },
    {
     "name": "stderr",
     "output_type": "stream",
     "text": [
      "[I 2025-09-25 22:39:48,295] Trial 0 finished with value: 0.9395911969803595 and parameters: {'n_estimators': 144, 'max_depth': 10, 'min_samples_split': 40, 'min_samples_leaf': 14}. Best is trial 0 with value: 0.9395911969803595.\n",
      "[I 2025-09-25 22:39:48,707] A new study created in memory with name: no-name-e42a4b08-3cc1-4f0a-97bc-74b3a61ff1db\n"
     ]
    },
    {
     "name": "stdout",
     "output_type": "stream",
     "text": [
      "      Train AUC: 0.9533, OOT AUC: 0.9154, Test AUC: 0.9396, |Train-OOT Gini gap|: 0.0758\n",
      "    Training LightGBM...\n"
     ]
    },
    {
     "name": "stderr",
     "output_type": "stream",
     "text": [
      "[I 2025-09-25 22:39:48,934] Trial 0 finished with value: 0.9240131789392872 and parameters: {'n_estimators': 144, 'max_depth': 10, 'learning_rate': 0.22227824312530747, 'num_leaves': 64, 'min_child_samples': 19, 'subsample': 0.5779972601681014, 'colsample_bytree': 0.5290418060840998}. Best is trial 0 with value: 0.9240131789392872.\n",
      "[I 2025-09-25 22:39:49,309] A new study created in memory with name: no-name-976a699f-3bc6-4005-8346-896e09450ed0\n"
     ]
    },
    {
     "name": "stdout",
     "output_type": "stream",
     "text": [
      "      Train AUC: 1.0000, OOT AUC: 0.8994, Test AUC: 0.9240, |Train-OOT Gini gap|: 0.2012\n",
      "    Training XGBoost...\n"
     ]
    },
    {
     "name": "stderr",
     "output_type": "stream",
     "text": [
      "[I 2025-09-25 22:39:50,297] Trial 0 finished with value: 0.9461166911905828 and parameters: {'n_estimators': 144, 'max_depth': 10, 'learning_rate': 0.22227824312530747, 'subsample': 0.7993292420985183, 'colsample_bytree': 0.5780093202212182, 'gamma': 0.7799726016810132}. Best is trial 0 with value: 0.9461166911905828.\n",
      "[I 2025-09-25 22:39:50,455] A new study created in memory with name: no-name-a73e0397-27e7-42a7-91a6-98cf5d4791e8\n"
     ]
    },
    {
     "name": "stdout",
     "output_type": "stream",
     "text": [
      "      Train AUC: 0.9964, OOT AUC: 0.9127, Test AUC: 0.9461, |Train-OOT Gini gap|: 0.1672\n",
      "    Training CatBoost...\n"
     ]
    },
    {
     "name": "stderr",
     "output_type": "stream",
     "text": [
      "[I 2025-09-25 22:39:52,303] Trial 0 finished with value: 0.9448691702386284 and parameters: {'iterations': 144, 'depth': 10, 'learning_rate': 0.22227824312530747, 'l2_leaf_reg': 6.387926357773329}. Best is trial 0 with value: 0.9448691702386284.\n",
      "[I 2025-09-25 22:39:53,946] A new study created in memory with name: no-name-aa9d0eb2-28c7-4206-a3bf-21b19a9a6d42\n"
     ]
    },
    {
     "name": "stdout",
     "output_type": "stream",
     "text": [
      "      Train AUC: 0.9893, OOT AUC: 0.9144, Test AUC: 0.9449, |Train-OOT Gini gap|: 0.1498\n",
      "    Training GAM...\n"
     ]
    },
    {
     "name": "stderr",
     "output_type": "stream",
     "text": [
      "[I 2025-09-25 22:39:54,227] Trial 0 finished with value: 0.9501311496385388 and parameters: {'n_splines': 12, 'lam': 6.351221010640703}. Best is trial 0 with value: 0.9501311496385388.\n"
     ]
    },
    {
     "name": "stdout",
     "output_type": "stream",
     "text": [
      "      Train AUC: 0.9583, OOT AUC: 0.9234, Test AUC: 0.9501, |Train-OOT Gini gap|: 0.0698\n",
      "    Training WoeBoost...\n",
      "      Train AUC: 0.9997, OOT AUC: 0.9136, Test AUC: 0.9377, |Train-OOT Gini gap|: 0.1721\n",
      "    Training WoeLogisticInteraction...\n",
      "      Train AUC: 0.9573, OOT AUC: 0.9230, Test AUC: 0.9507, |Train-OOT Gini gap|: 0.0685\n",
      "    Training ShaoLogit...\n",
      "      Train AUC: 0.9570, OOT AUC: 0.9230, Test AUC: 0.9505, |Train-OOT Gini gap|: 0.0678\n",
      "    Best model: LogisticRegression (OOT AUC: 0.9240, method: balanced), |train-oot gini gap|: 0.0647\n",
      "\n",
      "[Step 6/10] Stage 1 Calibration...\n",
      "  Added 40 tsfresh features\n",
      "  Found 50 numeric and 5 categorical features\n",
      "    Applying Stage 1 calibration (method=isotonic)...\n",
      "      Stage 1 target (long-run mean) default rate: 26.00%\n",
      "      ECE: 0.0000\n",
      "      MCE: 0.0000\n",
      "      Brier Score: 0.0892\n",
      "\n",
      "[Step 7/10] Stage 2 Calibration...\n",
      "  Added 40 tsfresh features\n",
      "  Found 50 numeric and 5 categorical features\n",
      "    Applying Stage 2 calibration (method=lower_mean)...\n",
      "      Recent default rate: 34.00%\n",
      "      Stage 1 predicted rate: 25.47%\n",
      "      ECE: 0.0400\n",
      "      MCE: 0.1603\n",
      "      Adjusted mean prediction: 33.05%\n",
      "\n",
      "[Step 8/10] Risk Band Optimization...\n",
      "    Optimizing 8 risk bands (method=pd_constraints)...\n",
      "      Warning: Bands are not monotonic in bad rate\n",
      "      Herfindahl Index: 0.2074\n",
      "      Entropy: 1.6702\n",
      "      Gini Coefficient: 0.5853\n",
      "      Hosmer-Lemeshow p-value: 0.0002\n",
      "      KS Statistic: 0.7454\n",
      "\n",
      "[Step 9/10] Scoring...\n",
      "  Added 40 tsfresh features\n",
      "  Found 50 numeric and 5 categorical features\n",
      "\n",
      "[Step 3/10] WOE Transformation & Univariate Analysis...\n",
      "    WARNING: WOE significantly reduces Gini for region\n",
      "    WARNING: WOE significantly reduces Gini for employment_type\n",
      "    WARNING: WOE significantly reduces Gini for open_trades\n",
      "    WARNING: WOE significantly reduces Gini for payment_income_ratio_mean_tsfresh\n",
      "    WARNING: WOE significantly reduces Gini for balance_to_limit_max_tsfresh\n",
      "    WARNING: WOE significantly reduces Gini for open_trades_std_tsfresh\n",
      "    WARNING: WOE significantly reduces Gini for promo_flag_mean_tsfresh\n",
      "  WOE hesaplandi: 56 degisken\n",
      "\n",
      "[Step 4/10] Feature Selection...\n",
      "  Applying psi selection...\n",
      "    Removing promo_flag: oot psi 0.501 > 0.250\n",
      "    psi: 1 degisken cikarildi, 55 kaldi\n",
      "  Applying univariate selection...\n",
      "    Removing app_id: univariate gini 0.000 < 0.050\n",
      "    Removing open_trades: univariate gini 0.014 < 0.050\n",
      "    Removing noise_feature: univariate gini 0.031 < 0.050\n",
      "    Removing bureau_score_std_tsfresh: univariate gini 0.047 < 0.050\n",
      "    Removing utilization_ratio_std_tsfresh: univariate gini 0.038 < 0.050\n",
      "    Removing credit_usage_ratio_std_tsfresh: univariate gini 0.015 < 0.050\n",
      "    Removing payment_income_ratio_std_tsfresh: univariate gini 0.002 < 0.050\n",
      "    Removing balance_to_limit_std_tsfresh: univariate gini 0.024 < 0.050\n",
      "    Removing monthly_spend_min_tsfresh: univariate gini 0.046 < 0.050\n",
      "    Removing delinquent_last_6m_std_tsfresh: univariate gini 0.000 < 0.050\n",
      "    Removing open_trades_mean_tsfresh: univariate gini 0.049 < 0.050\n",
      "    Removing open_trades_std_tsfresh: univariate gini 0.022 < 0.050\n",
      "    Removing open_trades_min_tsfresh: univariate gini 0.003 < 0.050\n",
      "    Removing open_trades_max_tsfresh: univariate gini 0.018 < 0.050\n",
      "    Removing promo_flag_mean_tsfresh: univariate gini 0.003 < 0.050\n",
      "    Removing promo_flag_std_tsfresh: univariate gini 0.017 < 0.050\n",
      "    Removing promo_flag_min_tsfresh: univariate gini 0.000 < 0.050\n",
      "    Removing promo_flag_max_tsfresh: univariate gini 0.017 < 0.050\n",
      "    Removing noise_feature_mean_tsfresh: univariate gini 0.028 < 0.050\n",
      "    Removing noise_feature_std_tsfresh: univariate gini 0.014 < 0.050\n",
      "    Removing noise_feature_min_tsfresh: univariate gini 0.002 < 0.050\n",
      "    Removing noise_feature_max_tsfresh: univariate gini 0.008 < 0.050\n",
      "    Removing noise_sentinel: univariate gini 0.003 < 0.050\n",
      "    univariate: 23 degisken cikarildi, 32 kaldi\n",
      "  Applying iv selection...\n",
      "    Removing employment_type: IV 0.018 < 0.020\n",
      "    iv: 1 degisken cikarildi, 31 kaldi\n",
      "  Applying correlation selection...\n",
      "    Removing credit_usage_ratio: Correlated with utilization_ratio (|corr|>0.95)\n",
      "    Removing utilization_ratio: Correlated with balance_to_limit (|corr|>0.95)\n",
      "    Removing credit_usage_ratio: Correlated with balance_to_limit (|corr|>0.95)\n",
      "    Removing bureau_score_mean_tsfresh: Correlated with bureau_score (|corr|>0.95)\n",
      "    Removing bureau_score_mean_tsfresh: Correlated with bureau_score_min_tsfresh (|corr|>0.95)\n",
      "    Removing bureau_score: Correlated with bureau_score_min_tsfresh (|corr|>0.95)\n",
      "    Removing bureau_score_max_tsfresh: Correlated with bureau_score (|corr|>0.95)\n",
      "    Removing bureau_score_mean_tsfresh: Correlated with bureau_score (|corr|>0.95)\n",
      "    Removing credit_usage_ratio_mean_tsfresh: Correlated with utilization_ratio_mean_tsfresh (|corr|>0.95)\n",
      "    Removing credit_usage_ratio_mean_tsfresh: Correlated with utilization_ratio_mean_tsfresh (|corr|>0.95)\n",
      "    Removing balance_to_limit_mean_tsfresh: Correlated with utilization_ratio_mean_tsfresh (|corr|>0.95)\n",
      "    Removing delinquent_last_6m: Correlated with delinquent_last_6m_mean_tsfresh (|corr|>0.95)\n",
      "    Removing delinquent_last_6m_min_tsfresh: Correlated with delinquent_last_6m_mean_tsfresh (|corr|>0.95)\n",
      "    Removing delinquent_last_6m: Correlated with delinquent_last_6m_mean_tsfresh (|corr|>0.95)\n",
      "    Removing delinquent_last_6m_min_tsfresh: Correlated with delinquent_last_6m_mean_tsfresh (|corr|>0.95)\n",
      "    Removing delinquent_last_6m_max_tsfresh: Correlated with delinquent_last_6m_mean_tsfresh (|corr|>0.95)\n",
      "    Removing delinquent_last_6m: Correlated with delinquent_last_6m_mean_tsfresh (|corr|>0.95)\n",
      "    correlation: 10 degisken cikarildi, 21 kaldi\n",
      "  Applying boruta selection...\n"
     ]
    },
    {
     "name": "stderr",
     "output_type": "stream",
     "text": [
      "[I 2025-09-25 22:40:08,967] A new study created in memory with name: no-name-f8eb601c-29be-4d2c-aa4f-19422a4178af\n"
     ]
    },
    {
     "name": "stdout",
     "output_type": "stream",
     "text": [
      "    Boruta selected 7 features from 21\n",
      "    boruta: 14 degisken cikarildi, 7 kaldi\n",
      "  Applying stepwise selection...\n",
      "    Starting Forward Selection...\n",
      "      Added bureau_score_min_tsfresh: AUC=0.8186\n",
      "      Added balance_to_limit: AUC=0.8833\n",
      "      Added segment: AUC=0.9215\n",
      "      Added delinquent_last_6m_mean_tsfresh: AUC=0.9457\n",
      "      Added channel_code: AUC=0.9678\n",
      "      Added payment_income_ratio: AUC=0.9671\n",
      "      Added region: AUC=0.9666\n",
      "    stepwise: 0 degisken cikarildi, 7 kaldi\n",
      "\n",
      "[Step 5/10] Model Training...\n",
      "  Training models on 7 features...\n",
      "    Training LogisticRegression...\n",
      "      Train AUC: 0.9672, OOT AUC: 0.9431, Test AUC: 0.9666, |Train-OOT Gini gap|: 0.0483\n",
      "    Training RandomForest...\n"
     ]
    },
    {
     "name": "stderr",
     "output_type": "stream",
     "text": [
      "[I 2025-09-25 22:40:09,278] Trial 0 finished with value: 0.9584159682681851 and parameters: {'n_estimators': 144, 'max_depth': 10, 'min_samples_split': 40, 'min_samples_leaf': 14}. Best is trial 0 with value: 0.9584159682681851.\n",
      "[I 2025-09-25 22:40:09,743] A new study created in memory with name: no-name-819e9983-960f-4b04-b0c8-7c0d44e7c8fa\n"
     ]
    },
    {
     "name": "stdout",
     "output_type": "stream",
     "text": [
      "      Train AUC: 0.9656, OOT AUC: 0.9318, Test AUC: 0.9584, |Train-OOT Gini gap|: 0.0677\n",
      "    Training ExtraTrees...\n"
     ]
    },
    {
     "name": "stderr",
     "output_type": "stream",
     "text": [
      "[I 2025-09-25 22:40:09,997] Trial 0 finished with value: 0.9528341117011068 and parameters: {'n_estimators': 144, 'max_depth': 10, 'min_samples_split': 40, 'min_samples_leaf': 14}. Best is trial 0 with value: 0.9528341117011068.\n",
      "[I 2025-09-25 22:40:10,402] A new study created in memory with name: no-name-7ee589d2-8be8-486f-99cb-5a3a5665fbd3\n"
     ]
    },
    {
     "name": "stdout",
     "output_type": "stream",
     "text": [
      "      Train AUC: 0.9595, OOT AUC: 0.9273, Test AUC: 0.9528, |Train-OOT Gini gap|: 0.0643\n",
      "    Training LightGBM...\n"
     ]
    },
    {
     "name": "stderr",
     "output_type": "stream",
     "text": [
      "[I 2025-09-25 22:40:10,706] Trial 0 finished with value: 0.9477480647431387 and parameters: {'n_estimators': 144, 'max_depth': 10, 'learning_rate': 0.22227824312530747, 'num_leaves': 64, 'min_child_samples': 19, 'subsample': 0.5779972601681014, 'colsample_bytree': 0.5290418060840998}. Best is trial 0 with value: 0.9477480647431387.\n",
      "[I 2025-09-25 22:40:11,046] A new study created in memory with name: no-name-5536c6d8-da4e-4f91-9019-a7ef7db2f290\n",
      "[I 2025-09-25 22:40:11,150] Trial 0 finished with value: 0.9636939415264539 and parameters: {'n_estimators': 144, 'max_depth': 10, 'learning_rate': 0.22227824312530747, 'subsample': 0.7993292420985183, 'colsample_bytree': 0.5780093202212182, 'gamma': 0.7799726016810132}. Best is trial 0 with value: 0.9636939415264539.\n"
     ]
    },
    {
     "name": "stdout",
     "output_type": "stream",
     "text": [
      "      Train AUC: 0.9965, OOT AUC: 0.9212, Test AUC: 0.9477, |Train-OOT Gini gap|: 0.1504\n",
      "    Training XGBoost...\n"
     ]
    },
    {
     "name": "stderr",
     "output_type": "stream",
     "text": [
      "[I 2025-09-25 22:40:11,264] A new study created in memory with name: no-name-d9d944d1-da40-4a8c-ba37-ede51b902219\n"
     ]
    },
    {
     "name": "stdout",
     "output_type": "stream",
     "text": [
      "      Train AUC: 0.9813, OOT AUC: 0.9406, Test AUC: 0.9637, |Train-OOT Gini gap|: 0.0814\n",
      "    Training CatBoost...\n"
     ]
    },
    {
     "name": "stderr",
     "output_type": "stream",
     "text": [
      "[I 2025-09-25 22:40:11,560] Trial 0 finished with value: 0.9573123920414561 and parameters: {'iterations': 144, 'depth': 10, 'learning_rate': 0.22227824312530747, 'l2_leaf_reg': 6.387926357773329}. Best is trial 0 with value: 0.9573123920414561.\n",
      "[I 2025-09-25 22:40:11,856] A new study created in memory with name: no-name-c1c8a26d-57a8-4864-a1d4-46f838f9ad48\n"
     ]
    },
    {
     "name": "stdout",
     "output_type": "stream",
     "text": [
      "      Train AUC: 0.9900, OOT AUC: 0.9292, Test AUC: 0.9573, |Train-OOT Gini gap|: 0.1217\n",
      "    Training GAM...\n"
     ]
    },
    {
     "name": "stderr",
     "output_type": "stream",
     "text": [
      "[I 2025-09-25 22:40:12,253] Trial 0 finished with value: 0.9667967500479816 and parameters: {'n_splines': 12, 'lam': 6.351221010640703}. Best is trial 0 with value: 0.9667967500479816.\n"
     ]
    },
    {
     "name": "stdout",
     "output_type": "stream",
     "text": [
      "      Train AUC: 0.9689, OOT AUC: 0.9430, Test AUC: 0.9668, |Train-OOT Gini gap|: 0.0518\n",
      "    Training WoeBoost...\n",
      "      Train AUC: 0.9902, OOT AUC: 0.9338, Test AUC: 0.9585, |Train-OOT Gini gap|: 0.1127\n",
      "    Training WoeLogisticInteraction...\n",
      "      Train AUC: 0.9688, OOT AUC: 0.9414, Test AUC: 0.9655, |Train-OOT Gini gap|: 0.0550\n",
      "    Training ShaoLogit...\n",
      "      Train AUC: 0.9672, OOT AUC: 0.9429, Test AUC: 0.9663, |Train-OOT Gini gap|: 0.0486\n",
      "    Best model: LogisticRegression (OOT AUC: 0.9431, method: balanced), |train-oot gini gap|: 0.0483\n",
      "\n",
      "[Step 6/10] Stage 1 Calibration...\n",
      "  Added 40 tsfresh features\n",
      "  Found 50 numeric and 5 categorical features\n",
      "    Applying Stage 1 calibration (method=isotonic)...\n",
      "      Stage 1 target (long-run mean) default rate: 26.00%\n",
      "      ECE: 0.0000\n",
      "      MCE: 0.0000\n",
      "      Brier Score: 0.1924\n",
      "\n",
      "[Step 7/10] Stage 2 Calibration...\n",
      "  Added 40 tsfresh features\n",
      "  Found 50 numeric and 5 categorical features\n",
      "    Applying Stage 2 calibration (method=lower_mean)...\n",
      "      Recent default rate: 34.00%\n",
      "      Stage 1 predicted rate: 26.01%\n",
      "      ECE: 0.0000\n",
      "      MCE: 0.0000\n",
      "      Adjusted mean prediction: 34.00%\n",
      "\n",
      "[Step 8/10] Risk Band Optimization...\n",
      "    Optimizing 8 risk bands (method=pd_constraints)...\n",
      "      Warning: constrained risk band optimization failed; falling back to quantile bands\n",
      "      Warning: Could only create 0 unique bands\n",
      "      Herfindahl Index: 0.0000\n",
      "      Entropy: 0.0000\n",
      "      Gini Coefficient: 0.0000\n",
      "      Hosmer-Lemeshow p-value: 0.0000\n",
      "      KS Statistic: nan\n",
      "\n",
      "[Step 9/10] Scoring...\n",
      "  Added 40 tsfresh features\n",
      "  Found 50 numeric and 5 categorical features\n",
      "[DUAL] Selected WOE flow with AUC=0.9666\n",
      "\n",
      "[Step 10/10] Generating Reports...\n",
      "Failed to export report to Excel: Sheetname 'Scoring_summary', with case ignored, is already in use.\n",
      "  WARNING: Failed to persist final model: Can't pickle <class 'risk_pipeline.core.calibration.TwoStageCalibrator._lower_mean_adjustment.<locals>.LowerMeanAdjustedModel'>: it's not found as risk_pipeline.core.calibration.TwoStageCalibrator._lower_mean_adjustment.<locals>.LowerMeanAdjustedModel\n",
      "\n",
      "================================================================================\n",
      "PIPELINE EXECUTION COMPLETED SUCCESSFULLY\n",
      "================================================================================\n"
     ]
    }
   ],
   "source": [
    "pipe = UnifiedRiskPipeline(cfg)\n",
    "results = pipe.fit(\n",
    "    dev_df,\n",
    "    data_dictionary=data_dictionary,\n",
    "    calibration_df=cal_long_df,\n",
    "    stage2_df=cal_recent_df,\n",
    "    score_df=score_df,\n",
    ")"
   ]
  },
  {
   "cell_type": "markdown",
   "id": "0f1170d5",
   "metadata": {},
   "source": [
    "## 5. Inspect key outputs"
   ]
  },
  {
   "cell_type": "code",
   "execution_count": 7,
   "id": "09882c48",
   "metadata": {
    "execution": {
     "iopub.execute_input": "2025-09-25T19:40:13.829247Z",
     "iopub.status.busy": "2025-09-25T19:40:13.828248Z",
     "iopub.status.idle": "2025-09-25T19:40:13.840271Z",
     "shell.execute_reply": "2025-09-25T19:40:13.840271Z"
    }
   },
   "outputs": [
    {
     "name": "stdout",
     "output_type": "stream",
     "text": [
      "Best model: LogisticRegression\n"
     ]
    },
    {
     "data": {
      "text/html": [
       "<div>\n",
       "<style scoped>\n",
       "    .dataframe tbody tr th:only-of-type {\n",
       "        vertical-align: middle;\n",
       "    }\n",
       "\n",
       "    .dataframe tbody tr th {\n",
       "        vertical-align: top;\n",
       "    }\n",
       "\n",
       "    .dataframe thead th {\n",
       "        text-align: right;\n",
       "    }\n",
       "</style>\n",
       "<table border=\"1\" class=\"dataframe\">\n",
       "  <thead>\n",
       "    <tr style=\"text-align: right;\">\n",
       "      <th></th>\n",
       "      <th>train_auc</th>\n",
       "      <th>test_auc</th>\n",
       "      <th>oot_auc</th>\n",
       "      <th>train_gini</th>\n",
       "      <th>test_gini</th>\n",
       "      <th>oot_gini</th>\n",
       "      <th>train_oot_gap</th>\n",
       "    </tr>\n",
       "  </thead>\n",
       "  <tbody>\n",
       "    <tr>\n",
       "      <th>LogisticRegression</th>\n",
       "      <td>0.967220</td>\n",
       "      <td>0.966605</td>\n",
       "      <td>0.943092</td>\n",
       "      <td>0.934440</td>\n",
       "      <td>0.933210</td>\n",
       "      <td>0.886184</td>\n",
       "      <td>0.048256</td>\n",
       "    </tr>\n",
       "    <tr>\n",
       "      <th>RandomForest</th>\n",
       "      <td>0.965637</td>\n",
       "      <td>0.958416</td>\n",
       "      <td>0.931769</td>\n",
       "      <td>0.931274</td>\n",
       "      <td>0.916832</td>\n",
       "      <td>0.863537</td>\n",
       "      <td>0.067737</td>\n",
       "    </tr>\n",
       "    <tr>\n",
       "      <th>ExtraTrees</th>\n",
       "      <td>0.959496</td>\n",
       "      <td>0.952834</td>\n",
       "      <td>0.927343</td>\n",
       "      <td>0.918992</td>\n",
       "      <td>0.905668</td>\n",
       "      <td>0.854686</td>\n",
       "      <td>0.064306</td>\n",
       "    </tr>\n",
       "    <tr>\n",
       "      <th>LightGBM</th>\n",
       "      <td>0.996461</td>\n",
       "      <td>0.947748</td>\n",
       "      <td>0.921243</td>\n",
       "      <td>0.992921</td>\n",
       "      <td>0.895496</td>\n",
       "      <td>0.842487</td>\n",
       "      <td>0.150435</td>\n",
       "    </tr>\n",
       "    <tr>\n",
       "      <th>XGBoost</th>\n",
       "      <td>0.981282</td>\n",
       "      <td>0.963694</td>\n",
       "      <td>0.940589</td>\n",
       "      <td>0.962563</td>\n",
       "      <td>0.927388</td>\n",
       "      <td>0.881177</td>\n",
       "      <td>0.081386</td>\n",
       "    </tr>\n",
       "    <tr>\n",
       "      <th>CatBoost</th>\n",
       "      <td>0.990044</td>\n",
       "      <td>0.957312</td>\n",
       "      <td>0.929219</td>\n",
       "      <td>0.980089</td>\n",
       "      <td>0.914625</td>\n",
       "      <td>0.858437</td>\n",
       "      <td>0.121652</td>\n",
       "    </tr>\n",
       "    <tr>\n",
       "      <th>GAM</th>\n",
       "      <td>0.968939</td>\n",
       "      <td>0.966797</td>\n",
       "      <td>0.943045</td>\n",
       "      <td>0.937878</td>\n",
       "      <td>0.933594</td>\n",
       "      <td>0.886091</td>\n",
       "      <td>0.051787</td>\n",
       "    </tr>\n",
       "    <tr>\n",
       "      <th>WoeBoost</th>\n",
       "      <td>0.990165</td>\n",
       "      <td>0.958512</td>\n",
       "      <td>0.933807</td>\n",
       "      <td>0.980329</td>\n",
       "      <td>0.917024</td>\n",
       "      <td>0.867614</td>\n",
       "      <td>0.112716</td>\n",
       "    </tr>\n",
       "    <tr>\n",
       "      <th>WoeLogisticInteraction</th>\n",
       "      <td>0.968841</td>\n",
       "      <td>0.965485</td>\n",
       "      <td>0.941356</td>\n",
       "      <td>0.937681</td>\n",
       "      <td>0.930971</td>\n",
       "      <td>0.882712</td>\n",
       "      <td>0.054969</td>\n",
       "    </tr>\n",
       "    <tr>\n",
       "      <th>ShaoLogit</th>\n",
       "      <td>0.967222</td>\n",
       "      <td>0.966333</td>\n",
       "      <td>0.942945</td>\n",
       "      <td>0.934443</td>\n",
       "      <td>0.932666</td>\n",
       "      <td>0.885889</td>\n",
       "      <td>0.048554</td>\n",
       "    </tr>\n",
       "  </tbody>\n",
       "</table>\n",
       "</div>"
      ],
      "text/plain": [
       "                        train_auc  test_auc   oot_auc  train_gini  test_gini  \\\n",
       "LogisticRegression       0.967220  0.966605  0.943092    0.934440   0.933210   \n",
       "RandomForest             0.965637  0.958416  0.931769    0.931274   0.916832   \n",
       "ExtraTrees               0.959496  0.952834  0.927343    0.918992   0.905668   \n",
       "LightGBM                 0.996461  0.947748  0.921243    0.992921   0.895496   \n",
       "XGBoost                  0.981282  0.963694  0.940589    0.962563   0.927388   \n",
       "CatBoost                 0.990044  0.957312  0.929219    0.980089   0.914625   \n",
       "GAM                      0.968939  0.966797  0.943045    0.937878   0.933594   \n",
       "WoeBoost                 0.990165  0.958512  0.933807    0.980329   0.917024   \n",
       "WoeLogisticInteraction   0.968841  0.965485  0.941356    0.937681   0.930971   \n",
       "ShaoLogit                0.967222  0.966333  0.942945    0.934443   0.932666   \n",
       "\n",
       "                        oot_gini  train_oot_gap  \n",
       "LogisticRegression      0.886184       0.048256  \n",
       "RandomForest            0.863537       0.067737  \n",
       "ExtraTrees              0.854686       0.064306  \n",
       "LightGBM                0.842487       0.150435  \n",
       "XGBoost                 0.881177       0.081386  \n",
       "CatBoost                0.858437       0.121652  \n",
       "GAM                     0.886091       0.051787  \n",
       "WoeBoost                0.867614       0.112716  \n",
       "WoeLogisticInteraction  0.882712       0.054969  \n",
       "ShaoLogit               0.885889       0.048554  "
      ]
     },
     "execution_count": 7,
     "metadata": {},
     "output_type": "execute_result"
    }
   ],
   "source": [
    "best_model = results.get('best_model_name')\n",
    "model_scores = results.get('model_results', {}).get('scores', {})\n",
    "print(f'Best model: {best_model}')\n",
    "pd.DataFrame(model_scores).T"
   ]
  },
  {
   "cell_type": "code",
   "execution_count": 8,
   "id": "06d7c44a",
   "metadata": {
    "execution": {
     "iopub.execute_input": "2025-09-25T19:40:13.843243Z",
     "iopub.status.busy": "2025-09-25T19:40:13.843243Z",
     "iopub.status.idle": "2025-09-25T19:40:13.872802Z",
     "shell.execute_reply": "2025-09-25T19:40:13.871805Z"
    }
   },
   "outputs": [
    {
     "data": {
      "text/html": [
       "<div>\n",
       "<style scoped>\n",
       "    .dataframe tbody tr th:only-of-type {\n",
       "        vertical-align: middle;\n",
       "    }\n",
       "\n",
       "    .dataframe tbody tr th {\n",
       "        vertical-align: top;\n",
       "    }\n",
       "\n",
       "    .dataframe thead th {\n",
       "        text-align: right;\n",
       "    }\n",
       "</style>\n",
       "<table border=\"1\" class=\"dataframe\">\n",
       "  <thead>\n",
       "    <tr style=\"text-align: right;\">\n",
       "      <th></th>\n",
       "      <th>feature</th>\n",
       "      <th>raw_feature</th>\n",
       "      <th>description</th>\n",
       "      <th>category</th>\n",
       "      <th>iv</th>\n",
       "      <th>gini_raw</th>\n",
       "      <th>gini_woe</th>\n",
       "      <th>gini_drop</th>\n",
       "      <th>is_tsfresh</th>\n",
       "      <th>tsfresh_source</th>\n",
       "      <th>...</th>\n",
       "      <th>importance_LogisticRegression</th>\n",
       "      <th>importance_RandomForest</th>\n",
       "      <th>importance_ExtraTrees</th>\n",
       "      <th>importance_LightGBM</th>\n",
       "      <th>importance_XGBoost</th>\n",
       "      <th>importance_CatBoost</th>\n",
       "      <th>importance_GAM</th>\n",
       "      <th>importance_WoeBoost</th>\n",
       "      <th>importance_WoeLogisticInteraction</th>\n",
       "      <th>importance_ShaoLogit</th>\n",
       "    </tr>\n",
       "  </thead>\n",
       "  <tbody>\n",
       "    <tr>\n",
       "      <th>0</th>\n",
       "      <td>bureau_score_min_tsfresh</td>\n",
       "      <td>bureau_score_min_tsfresh</td>\n",
       "      <td></td>\n",
       "      <td></td>\n",
       "      <td>1.673774</td>\n",
       "      <td>-0.638329</td>\n",
       "      <td>0.626627</td>\n",
       "      <td>-1.264956</td>\n",
       "      <td>True</td>\n",
       "      <td>bureau_score</td>\n",
       "      <td>...</td>\n",
       "      <td>2.058399</td>\n",
       "      <td>0.488459</td>\n",
       "      <td>0.424839</td>\n",
       "      <td>1804</td>\n",
       "      <td>0.214816</td>\n",
       "      <td>31.604701</td>\n",
       "      <td>0.142857</td>\n",
       "      <td>4633.538953</td>\n",
       "      <td>0.142857</td>\n",
       "      <td>0.142857</td>\n",
       "    </tr>\n",
       "    <tr>\n",
       "      <th>1</th>\n",
       "      <td>balance_to_limit</td>\n",
       "      <td>balance_to_limit</td>\n",
       "      <td>Risk - Balance to credit limit ratio</td>\n",
       "      <td>Risk</td>\n",
       "      <td>0.479553</td>\n",
       "      <td>0.373962</td>\n",
       "      <td>0.369513</td>\n",
       "      <td>0.004449</td>\n",
       "      <td>False</td>\n",
       "      <td>NaN</td>\n",
       "      <td>...</td>\n",
       "      <td>2.168241</td>\n",
       "      <td>0.140603</td>\n",
       "      <td>0.094083</td>\n",
       "      <td>2153</td>\n",
       "      <td>0.102941</td>\n",
       "      <td>15.030887</td>\n",
       "      <td>0.142857</td>\n",
       "      <td>2123.980738</td>\n",
       "      <td>0.142857</td>\n",
       "      <td>0.142857</td>\n",
       "    </tr>\n",
       "    <tr>\n",
       "      <th>2</th>\n",
       "      <td>delinquent_last_6m_mean_tsfresh</td>\n",
       "      <td>delinquent_last_6m_mean_tsfresh</td>\n",
       "      <td></td>\n",
       "      <td></td>\n",
       "      <td>0.368268</td>\n",
       "      <td>0.235059</td>\n",
       "      <td>0.235059</td>\n",
       "      <td>0.000000</td>\n",
       "      <td>True</td>\n",
       "      <td>delinquent_last_6m</td>\n",
       "      <td>...</td>\n",
       "      <td>2.328630</td>\n",
       "      <td>0.130299</td>\n",
       "      <td>0.181816</td>\n",
       "      <td>261</td>\n",
       "      <td>0.294976</td>\n",
       "      <td>15.425114</td>\n",
       "      <td>0.142857</td>\n",
       "      <td>1585.364357</td>\n",
       "      <td>0.142857</td>\n",
       "      <td>0.142857</td>\n",
       "    </tr>\n",
       "    <tr>\n",
       "      <th>3</th>\n",
       "      <td>segment</td>\n",
       "      <td>segment</td>\n",
       "      <td>Demographic - Customer segment</td>\n",
       "      <td>Demographic</td>\n",
       "      <td>0.316595</td>\n",
       "      <td>0.287406</td>\n",
       "      <td>0.276605</td>\n",
       "      <td>0.010802</td>\n",
       "      <td>False</td>\n",
       "      <td>NaN</td>\n",
       "      <td>...</td>\n",
       "      <td>2.051961</td>\n",
       "      <td>0.098429</td>\n",
       "      <td>0.130496</td>\n",
       "      <td>385</td>\n",
       "      <td>0.132571</td>\n",
       "      <td>11.402640</td>\n",
       "      <td>0.142857</td>\n",
       "      <td>1100.313803</td>\n",
       "      <td>0.142857</td>\n",
       "      <td>0.142857</td>\n",
       "    </tr>\n",
       "    <tr>\n",
       "      <th>4</th>\n",
       "      <td>channel_code</td>\n",
       "      <td>channel_code</td>\n",
       "      <td>Operational - Acquisition channel (drift driver)</td>\n",
       "      <td>Operational</td>\n",
       "      <td>0.200877</td>\n",
       "      <td>0.197491</td>\n",
       "      <td>0.187716</td>\n",
       "      <td>0.009775</td>\n",
       "      <td>False</td>\n",
       "      <td>NaN</td>\n",
       "      <td>...</td>\n",
       "      <td>3.029687</td>\n",
       "      <td>0.074082</td>\n",
       "      <td>0.100574</td>\n",
       "      <td>221</td>\n",
       "      <td>0.119677</td>\n",
       "      <td>12.514840</td>\n",
       "      <td>0.142857</td>\n",
       "      <td>1037.230346</td>\n",
       "      <td>0.142857</td>\n",
       "      <td>0.142857</td>\n",
       "    </tr>\n",
       "  </tbody>\n",
       "</table>\n",
       "<p>5 rows × 27 columns</p>\n",
       "</div>"
      ],
      "text/plain": [
       "                           feature                      raw_feature  \\\n",
       "0         bureau_score_min_tsfresh         bureau_score_min_tsfresh   \n",
       "1                 balance_to_limit                 balance_to_limit   \n",
       "2  delinquent_last_6m_mean_tsfresh  delinquent_last_6m_mean_tsfresh   \n",
       "3                          segment                          segment   \n",
       "4                     channel_code                     channel_code   \n",
       "\n",
       "                                        description     category        iv  \\\n",
       "0                                                                 1.673774   \n",
       "1              Risk - Balance to credit limit ratio         Risk  0.479553   \n",
       "2                                                                 0.368268   \n",
       "3                    Demographic - Customer segment  Demographic  0.316595   \n",
       "4  Operational - Acquisition channel (drift driver)  Operational  0.200877   \n",
       "\n",
       "   gini_raw  gini_woe  gini_drop  is_tsfresh      tsfresh_source  ...  \\\n",
       "0 -0.638329  0.626627  -1.264956        True        bureau_score  ...   \n",
       "1  0.373962  0.369513   0.004449       False                 NaN  ...   \n",
       "2  0.235059  0.235059   0.000000        True  delinquent_last_6m  ...   \n",
       "3  0.287406  0.276605   0.010802       False                 NaN  ...   \n",
       "4  0.197491  0.187716   0.009775       False                 NaN  ...   \n",
       "\n",
       "  importance_LogisticRegression importance_RandomForest importance_ExtraTrees  \\\n",
       "0                      2.058399                0.488459              0.424839   \n",
       "1                      2.168241                0.140603              0.094083   \n",
       "2                      2.328630                0.130299              0.181816   \n",
       "3                      2.051961                0.098429              0.130496   \n",
       "4                      3.029687                0.074082              0.100574   \n",
       "\n",
       "   importance_LightGBM  importance_XGBoost  importance_CatBoost  \\\n",
       "0                 1804            0.214816            31.604701   \n",
       "1                 2153            0.102941            15.030887   \n",
       "2                  261            0.294976            15.425114   \n",
       "3                  385            0.132571            11.402640   \n",
       "4                  221            0.119677            12.514840   \n",
       "\n",
       "  importance_GAM  importance_WoeBoost  importance_WoeLogisticInteraction  \\\n",
       "0       0.142857          4633.538953                           0.142857   \n",
       "1       0.142857          2123.980738                           0.142857   \n",
       "2       0.142857          1585.364357                           0.142857   \n",
       "3       0.142857          1100.313803                           0.142857   \n",
       "4       0.142857          1037.230346                           0.142857   \n",
       "\n",
       "   importance_ShaoLogit  \n",
       "0              0.142857  \n",
       "1              0.142857  \n",
       "2              0.142857  \n",
       "3              0.142857  \n",
       "4              0.142857  \n",
       "\n",
       "[5 rows x 27 columns]"
      ]
     },
     "execution_count": 8,
     "metadata": {},
     "output_type": "execute_result"
    }
   ],
   "source": [
    "feature_report = pipe.reporter.reports_.get('features')\n",
    "feature_report.head() if feature_report is not None else 'No feature report available.'"
   ]
  },
  {
   "cell_type": "code",
   "execution_count": 9,
   "id": "f98c1b63",
   "metadata": {
    "execution": {
     "iopub.execute_input": "2025-09-25T19:40:13.875850Z",
     "iopub.status.busy": "2025-09-25T19:40:13.875850Z",
     "iopub.status.idle": "2025-09-25T19:40:13.887801Z",
     "shell.execute_reply": "2025-09-25T19:40:13.887801Z"
    }
   },
   "outputs": [
    {
     "data": {
      "text/plain": [
       "{'stage1': {'method': 'isotonic',\n",
       "  'metrics': {'ece': 1.1098265164020762e-16,\n",
       "   'mce': 1.1102230246251565e-16,\n",
       "   'brier': 0.1923758485173277,\n",
       "   'log_loss': 0.5729493571843972,\n",
       "   'mean_predicted': 0.2600000000000002,\n",
       "   'mean_actual': 0.26,\n",
       "   'calibration_gap': 1.6653345369377348e-16},\n",
       "  'details': {'method': 'isotonic', 'long_run_rate': 0.26, 'base_rate': 0.26}},\n",
       " 'stage2': {'method': 'lower_mean',\n",
       "  'metrics': {'ece': 1.6653345369377348e-16,\n",
       "   'mce': 1.6653345369377348e-16,\n",
       "   'brier': 0.22440000000000004,\n",
       "   'log_loss': 0.6410354778811554,\n",
       "   'mean_predicted': 0.3400000000000002,\n",
       "   'mean_actual': 0.34,\n",
       "   'calibration_gap': 1.6653345369377348e-16},\n",
       "  'details': {'method': 'lower_mean',\n",
       "   'recent_rate': 0.34,\n",
       "   'stage1_rate': 0.2600928903179708,\n",
       "   'target_rate': 0.34,\n",
       "   'adjustment_factor': 1.3072252747252744,\n",
       "   'achieved_rate': 0.3400000000000002}}}"
      ]
     },
     "execution_count": 9,
     "metadata": {},
     "output_type": "execute_result"
    }
   ],
   "source": [
    "calibration_report = pipe.reporter.reports_.get('calibration')\n",
    "calibration_report"
   ]
  },
  {
   "cell_type": "code",
   "execution_count": 10,
   "id": "9b526862",
   "metadata": {
    "execution": {
     "iopub.execute_input": "2025-09-25T19:40:13.890803Z",
     "iopub.status.busy": "2025-09-25T19:40:13.890803Z",
     "iopub.status.idle": "2025-09-25T19:40:13.903802Z",
     "shell.execute_reply": "2025-09-25T19:40:13.902799Z"
    }
   },
   "outputs": [
    {
     "data": {
      "text/plain": [
       "{'Risk Bands Summary': ['Herfindahl Index: 0.0000',\n",
       "  'Entropy: 0.0000',\n",
       "  'Gini Coefficient: 0.0000',\n",
       "  'Hosmer-Lemeshow p-value: 0.0000',\n",
       "  'KS Statistic: nan']}"
      ]
     },
     "execution_count": 10,
     "metadata": {},
     "output_type": "execute_result"
    }
   ],
   "source": [
    "risk_bands = pipe.reporter.reports_.get('risk_bands_summary', {})\n",
    "risk_bands"
   ]
  },
  {
   "cell_type": "markdown",
   "id": "4af7eac6",
   "metadata": {},
   "source": [
    "## 6. Generated files"
   ]
  },
  {
   "cell_type": "code",
   "execution_count": 11,
   "id": "5d68abf7",
   "metadata": {
    "execution": {
     "iopub.execute_input": "2025-09-25T19:40:13.906803Z",
     "iopub.status.busy": "2025-09-25T19:40:13.905909Z",
     "iopub.status.idle": "2025-09-25T19:40:13.918905Z",
     "shell.execute_reply": "2025-09-25T19:40:13.917909Z"
    }
   },
   "outputs": [
    {
     "data": {
      "text/plain": [
       "[WindowsPath('credit_risk_sample_notebook/best_model_raw_20250925_164952.joblib'),\n",
       " WindowsPath('credit_risk_sample_notebook/best_model_raw_20250925_200130.joblib'),\n",
       " WindowsPath('credit_risk_sample_notebook/best_model_raw_20250925_223855.joblib'),\n",
       " WindowsPath('credit_risk_sample_notebook/best_model_raw_20250925_224013.joblib'),\n",
       " WindowsPath('credit_risk_sample_notebook/final_features_20250925_164952.json'),\n",
       " WindowsPath('credit_risk_sample_notebook/final_features_20250925_200130.json'),\n",
       " WindowsPath('credit_risk_sample_notebook/final_features_20250925_223855.json'),\n",
       " WindowsPath('credit_risk_sample_notebook/final_features_20250925_224013.json'),\n",
       " WindowsPath('credit_risk_sample_notebook/final_model_20250925_164952.joblib'),\n",
       " WindowsPath('credit_risk_sample_notebook/final_model_20250925_200130.joblib'),\n",
       " WindowsPath('credit_risk_sample_notebook/final_model_20250925_223855.joblib'),\n",
       " WindowsPath('credit_risk_sample_notebook/final_model_20250925_224013.joblib'),\n",
       " WindowsPath('credit_risk_sample_notebook/risk_report_20250925_164952.xlsx'),\n",
       " WindowsPath('credit_risk_sample_notebook/risk_report_20250925_200130.xlsx'),\n",
       " WindowsPath('credit_risk_sample_notebook/risk_report_20250925_223855.xlsx'),\n",
       " WindowsPath('credit_risk_sample_notebook/risk_report_20250925_224013.xlsx'),\n",
       " WindowsPath('credit_risk_sample_notebook/stage2_details_20250925_164952.json'),\n",
       " WindowsPath('credit_risk_sample_notebook/stage2_details_20250925_200130.json'),\n",
       " WindowsPath('credit_risk_sample_notebook/stage2_details_20250925_223855.json'),\n",
       " WindowsPath('credit_risk_sample_notebook/stage2_details_20250925_224013.json'),\n",
       " WindowsPath('credit_risk_sample_notebook/woe_mapping_20250925_164952.json'),\n",
       " WindowsPath('credit_risk_sample_notebook/woe_mapping_20250925_200130.json'),\n",
       " WindowsPath('credit_risk_sample_notebook/woe_mapping_20250925_223855.json'),\n",
       " WindowsPath('credit_risk_sample_notebook/woe_mapping_20250925_224013.json')]"
      ]
     },
     "execution_count": 11,
     "metadata": {},
     "output_type": "execute_result"
    }
   ],
   "source": [
    "sorted(p.relative_to(OUTPUT_DIR.parent) for p in OUTPUT_DIR.glob('**/*') if p.is_file())"
   ]
  },
  {
   "cell_type": "markdown",
   "id": "17e2a2b5",
   "metadata": {},
   "source": [
    "## 7. XBooster scorecard"
   ]
  },
  {
   "cell_type": "code",
   "execution_count": 12,
   "id": "94166e80",
   "metadata": {
    "execution": {
     "iopub.execute_input": "2025-09-25T19:40:13.922802Z",
     "iopub.status.busy": "2025-09-25T19:40:13.921803Z",
     "iopub.status.idle": "2025-09-25T19:40:13.933804Z",
     "shell.execute_reply": "2025-09-25T19:40:13.933804Z"
    }
   },
   "outputs": [
    {
     "name": "stdout",
     "output_type": "stream",
     "text": [
      "Warnings: None\n"
     ]
    },
    {
     "data": {
      "text/plain": [
       "{}"
      ]
     },
     "execution_count": 12,
     "metadata": {},
     "output_type": "execute_result"
    }
   ],
   "source": [
    "xbooster_artifacts = results.get('model_results', {}).get('interpretability', {}).get('XBooster', {})\n",
    "if isinstance(xbooster_artifacts, dict):\n",
    "    scorecard_df = xbooster_artifacts.get('scorecard_points')\n",
    "    warnings = xbooster_artifacts.get('warnings')\n",
    "    display_obj = scorecard_df.head() if hasattr(scorecard_df, 'head') else xbooster_artifacts\n",
    "else:\n",
    "    warnings = None\n",
    "    display_obj = 'No XBooster artifacts available.'\n",
    "print('Warnings:', warnings if warnings else 'None')\n",
    "display_obj"
   ]
  },
  {
   "cell_type": "markdown",
   "id": "b6a920df",
   "metadata": {},
   "source": [
    "## 8. Automating via script\n",
    "\n",
    "`examples/quickstart_demo.py` mirrors the steps above so the flow can be validated headless\n",
    "(e.g. in CI pipelines)."
   ]
  }
 ],
 "metadata": {
  "language_info": {
   "codemirror_mode": {
    "name": "ipython",
    "version": 3
   },
   "file_extension": ".py",
   "mimetype": "text/x-python",
   "name": "python",
   "nbconvert_exporter": "python",
   "pygments_lexer": "ipython3",
   "version": "3.9.13"
  }
 },
 "nbformat": 4,
 "nbformat_minor": 5
}
