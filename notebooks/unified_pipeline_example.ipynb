{
 "cells": [
  {
   "cell_type": "markdown",
   "id": "e9bb3a57",
   "metadata": {},
   "source": [
    "# Unified Pipeline Demo\n",
    "\n",
    "Bu notebook, `risk_pipeline` paketinin tek Config tabanl� pipeline'�n� sentetik veri �zerinde g�sterir."
   ]
  },
  {
   "cell_type": "code",
   "execution_count": null,
   "id": "36d345a5",
   "metadata": {},
   "outputs": [],
   "source": [
    "import warnings\n",
    "warnings.filterwarnings('ignore')\n",
    "\n",
    "import numpy as np\n",
    "import pandas as pd\n",
    "\n",
    "from risk_pipeline.core.config import Config\n",
    "from risk_pipeline.pipeline import RiskModelPipeline"
   ]
  },
  {
   "cell_type": "code",
   "execution_count": null,
   "id": "e64d19cf",
   "metadata": {},
   "outputs": [],
   "source": [
    "try:\n",
    "    import ipywidgets as widgets\n",
    "    from IPython.display import display, clear_output\n",
    "    WIDGETS_AVAILABLE = True\n",
    "except ImportError:\n",
    "    WIDGETS_AVAILABLE = False\n",
    "    print('ipywidgets bulunamad�; varsay�lan ayarlar kullan�lacak.')\n",
    "\n",
    "DEFAULT_ALGORITHMS = [\n",
    "    'logistic',\n",
    "    'gam',\n",
    "    'catboost',\n",
    "    'lightgbm',\n",
    "    'xgboost',\n",
    "    'randomforest',\n",
    "    'extratrees',\n",
    "]\n",
    "\n",
    "def build_default_config():\n",
    "    return Config(\n",
    "        target_column='target',\n",
    "        id_column='application_id',\n",
    "        time_column='application_date',\n",
    "        algorithms=DEFAULT_ALGORITHMS,\n",
    "        enable_scoring=True,\n",
    "        enable_dual=True,\n",
    "        use_optuna=False,\n",
    "        optimize_risk_bands=True,\n",
    "        calculate_shap=False,\n",
    "        report_components=[],\n",
    "    )\n",
    "\n",
    "user_config = build_default_config()\n",
    "\n",
    "if WIDGETS_AVAILABLE:\n",
    "    alg_widget = widgets.SelectMultiple(\n",
    "        options=DEFAULT_ALGORITHMS,\n",
    "        value=tuple(DEFAULT_ALGORITHMS),\n",
    "        description='Algoritmalar',\n",
    "        rows=len(DEFAULT_ALGORITHMS),\n",
    "    )\n",
    "    scoring_widget = widgets.Checkbox(value=True, description='Skorlama')\n",
    "    dual_widget = widgets.Checkbox(value=True, description='Dual (WOE+RAW)')\n",
    "    optuna_widget = widgets.Checkbox(value=False, description='Optuna HPO')\n",
    "    riskband_widget = widgets.Checkbox(value=True, description='Risk band opt.')\n",
    "\n",
    "    output = widgets.Output()\n",
    "\n",
    "    def apply_settings(_):\n",
    "        global user_config\n",
    "        user_config = build_default_config()\n",
    "        user_config.algorithms = list(alg_widget.value) or DEFAULT_ALGORITHMS\n",
    "        user_config.enable_scoring = scoring_widget.value\n",
    "        user_config.enable_dual = dual_widget.value\n",
    "        user_config.use_optuna = optuna_widget.value\n",
    "        user_config.optimize_risk_bands = riskband_widget.value\n",
    "        with output:\n",
    "            clear_output()\n",
    "            print('Ayarlar g�ncellendi. Se�ilen algoritmalar:', user_config.algorithms)\n",
    "\n",
    "    apply_button = widgets.Button(description='Ayarlar� Uygula', button_style='success', icon='check')\n",
    "    apply_button.on_click(apply_settings)\n",
    "\n",
    "    ui = widgets.VBox([\n",
    "        widgets.HTML('<b>Pipeline Konfig�rasyon Sihirbaz�</b>'),\n",
    "        widgets.HBox([\n",
    "            alg_widget,\n",
    "            widgets.VBox([scoring_widget, dual_widget, optuna_widget, riskband_widget, apply_button]),\n",
    "        ]),\n",
    "        output,\n",
    "    ])\n",
    "    display(ui)\n",
    "else:\n",
    "    print('ipywidgets bulunamad�; varsay�lan ayarlar kullan�lacak.')"
   ]
  },
  {
   "cell_type": "markdown",
   "id": "249075c0",
   "metadata": {},
   "source": [
    "## Sentetik E�itim & Kalibrasyon Verisi\n",
    "�rnek veri setleri olu�turarak pipeline'� �al��t�raca��z."
   ]
  },
  {
   "cell_type": "code",
   "execution_count": null,
   "id": "3f7b7c81",
   "metadata": {},
   "outputs": [],
   "source": [
    "def make_demo_datasets(n_train=2000, n_calibration=600, seed=42):\n",
    "    rng = np.random.default_rng(seed)\n",
    "\n",
    "    def _build(n):\n",
    "        df = pd.DataFrame({\n",
    "            'application_id': np.arange(n),\n",
    "            'application_date': pd.date_range('2020-01-01', periods=n, freq='D'),\n",
    "            'age': rng.integers(18, 70, size=n),\n",
    "            'income': rng.normal(5000, 1500, size=n),\n",
    "            'credit_limit': rng.normal(10000, 2500, size=n),\n",
    "            'delinquency_ever': rng.binomial(1, 0.3, size=n),\n",
    "            'open_accounts': rng.integers(1, 6, size=n),\n",
    "        })\n",
    "        score = (\n",
    "            0.03 * df['age']\n",
    "            - 0.0005 * df['income']\n",
    "            - 0.0008 * df['credit_limit']\n",
    "            + 0.25 * df['delinquency_ever']\n",
    "            + 0.12 * df['open_accounts']\n",
    "        )\n",
    "        probability = 1 / (1 + np.exp(-score / 12))\n",
    "        df['target'] = rng.binomial(1, probability)\n",
    "        return df\n",
    "\n",
    "    train_df = _build(n_train)\n",
    "    cal_df = _build(n_calibration)\n",
    "    return train_df, cal_df\n",
    "\n",
    "train_df, calibration_df = make_demo_datasets()\n",
    "print(train_df.head())\n",
    "print('Train default rate:', train_df['target'].mean().round(3))\n",
    "print('Calibration default rate:', calibration_df['target'].mean().round(3))"
   ]
  },
  {
   "cell_type": "markdown",
   "id": "a4f08b24",
   "metadata": {},
   "source": [
    "## Pipeline E�itimi"
   ]
  },
  {
   "cell_type": "code",
   "execution_count": null,
   "id": "bafd62ac",
   "metadata": {},
   "outputs": [],
   "source": [
    "pipeline = RiskModelPipeline(user_config)\n",
    "results = pipeline.fit(train_df, calibration_df=calibration_df)\n",
    "\n",
    "print(f\"Best model: {results['best_model']}\")\n",
    "print(f\"Se�ilen �zellik say�s� (WOE): {len(results['selected_features'].get('woe', []))}\")\n",
    "print(f\"Se�ilen �zellik say�s� (RAW): {len(results['selected_features'].get('raw', []))}\")"
   ]
  },
  {
   "cell_type": "markdown",
   "id": "31f612c8",
   "metadata": {},
   "source": [
    "## Skorlama �rne�i"
   ]
  },
  {
   "cell_type": "code",
   "execution_count": null,
   "id": "df5941d7",
   "metadata": {},
   "outputs": [],
   "source": [
    "if user_config.enable_scoring:\n",
    "    scores = pipeline.score(train_df.head(5), return_calibrated=True)\n",
    "    print('�rnek skorlar:', scores)\n",
    "else:\n",
    "    print('Scoring devre d���. enable_scoring=True yaparak aktifle�tirebilirsiniz.')"
   ]
  },
  {
   "cell_type": "markdown",
   "id": "e6276b1f",
   "metadata": {},
   "source": [
    "## Risk Band Analizi"
   ]
  },
  {
   "cell_type": "code",
   "execution_count": null,
   "id": "4966b10a",
   "metadata": {},
   "outputs": [],
   "source": [
    "if user_config.optimize_risk_bands and pipeline.risk_bands:\n",
    "    band_stats = pipeline.risk_bands.get('band_stats')\n",
    "    if band_stats is not None:\n",
    "        display(band_stats.head())\n",
    "    else:\n",
    "        print('Risk band istatisti�i bulunamad�')\n",
    "else:\n",
    "    print('Risk band optimizasyonu kapal� veya sonu� �retilmedi.')"
   ]
  },
  {
   "cell_type": "markdown",
   "id": "c3dad0a8",
   "metadata": {},
   "source": [
    "## Kaydetme & Y�kleme"
   ]
  },
  {
   "cell_type": "code",
   "execution_count": null,
   "id": "db98aa2b",
   "metadata": {},
   "outputs": [],
   "source": [
    "import tempfile\n",
    "from pathlib import Path as _Path\n",
    "\n",
    "checkpoint_dir = _Path(tempfile.gettempdir()) / 'risk_pipeline_demo'\n",
    "checkpoint_dir.mkdir(exist_ok=True)\n",
    "\n",
    "model_path = checkpoint_dir / 'trained_pipeline.pkl'\n",
    "pipeline.save_pipeline(str(model_path))\n",
    "\n",
    "loaded_pipeline = RiskModelPipeline.load_pipeline(str(model_path))\n",
    "print('Kaydedilen pipeline y�klendi; best model:', loaded_pipeline.best_model)"
   ]
  },
  {
   "cell_type": "markdown",
   "id": "646d9f56",
   "metadata": {},
   "source": [
    "## Sonraki Ad�mlar\n",
    "- `train_df` ve `calibration_df` verilerini kendi dataset�inizle de�i�tirin.\n",
    "- `user_config` ayarlar�n� de�i�tirip farkl� kombinasyonlar deneyin.\n",
    "- `python -m pytest tests/integration` komutuyla entegrasyon testlerini �al��t�r�n."
   ]
  }
 ],
 "metadata": {
  "kernelspec": {
   "display_name": "Python 3",
   "language": "python",
   "name": "python3"
  },
  "language_info": {
   "name": "python",
   "version": "3.9"
  }
 },
 "nbformat": 4,
 "nbformat_minor": 5
}